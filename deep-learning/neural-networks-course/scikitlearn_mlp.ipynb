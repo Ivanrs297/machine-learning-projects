{
 "cells": [
  {
   "attachments": {},
   "cell_type": "markdown",
   "metadata": {},
   "source": [
    "# Supervised Learning with Neural Networks (NN)\n",
    "\n",
    "Supervised learning is a subfield of machine learning that deals with training models to make predictions based on labeled input-output data. The goal of supervised learning is to learn a mapping function from input to output, such that for any given input, the model can predict the correct output. \n",
    "\n",
    "Supervised learning in machine learning can be formally defined as the problem of finding a function $f(x) = y$ , where $x$ is the input variable(s) and $y$ is the output variable(s). The function $f$ is learned from a labeled training dataset \n",
    "\n",
    "$$\n",
    "D = {(x_1, y_1), (x_2, y_2), ..., (x_n, y_n)}, \n",
    "$$\n",
    "where each sample is a pair of input-output variables. \n",
    "\n",
    "The goal of supervised learning is to find a function f that minimizes the prediction error on a new unseen data. This can be mathematically represented as:\n",
    "\n",
    "$$\n",
    "f = argmin_f (1/N) ∑_{i=1}^{N} L(y_i, f(x_i))\n",
    "$$\n",
    "Where $L$ is a loss function that measures the discrepancy between the predicted output $f(x_i)$ and the true output $y_i, N$ is the number of samples in the training set and argmin is used to find the function f that minimizes the loss function $L$.\n",
    "\n",
    "Supervised learning can be further divided into two main categories, classification and regression. In classification, the output variable y is categorical and the goal is to find the function $f$ that assigns the input $x$ to the correct category. In regression, the output variable $y$ is continuous and the goal is to find the function $f$ that predicts a continuous value for the input $x$.\n"
   ]
  },
  {
   "attachments": {},
   "cell_type": "markdown",
   "metadata": {},
   "source": [
    "## Classification\n",
    "\n",
    "Classification in machine learning is a process of identifying to which category or class an object or data sample belongs to based on its features. It is a supervised learning problem, which means that the model is trained on a labeled dataset, where the correct class label is provided for each sample. The goal of the classification model is to learn the underlying pattern in the data that can be used to predict the class labels for new unseen samples. Some common classification algorithms include logistic regression, decision trees, random forests, and support vector machines."
   ]
  },
  {
   "cell_type": "code",
   "execution_count": 1,
   "metadata": {},
   "outputs": [
    {
     "data": {
      "text/plain": [
       "MLPClassifier(max_iter=1000)"
      ]
     },
     "execution_count": 1,
     "metadata": {},
     "output_type": "execute_result"
    }
   ],
   "source": [
    "import numpy as np\n",
    "import pandas as pd\n",
    "from sklearn.model_selection import train_test_split\n",
    "from sklearn.datasets import load_iris\n",
    "from sklearn.neural_network import MLPClassifier\n",
    "\n",
    "iris_dataset = load_iris()\n",
    "data = pd.DataFrame(iris_dataset.data, columns=iris_dataset.feature_names)\n",
    "data['target'] = iris_dataset.target\n",
    "\n",
    "validation = data.sample(5)\n",
    "data.drop(validation.index, axis=0, inplace=True)\n",
    "\n",
    "features = data.drop('target', axis=1)\n",
    "x_train, x_test, y_train, y_test = train_test_split(features, data['target'], random_state=42, test_size=0.25)\n",
    "\n",
    "model = MLPClassifier(max_iter=1000)\n",
    "model.fit(x_train, y_train)"
   ]
  },
  {
   "cell_type": "code",
   "execution_count": 11,
   "metadata": {},
   "outputs": [
    {
     "data": {
      "text/plain": [
       "1.0"
      ]
     },
     "execution_count": 11,
     "metadata": {},
     "output_type": "execute_result"
    }
   ],
   "source": [
    "model.score(validation.iloc[:, 0:4],validation.iloc[:, 4])"
   ]
  },
  {
   "attachments": {},
   "cell_type": "markdown",
   "metadata": {},
   "source": [
    "## Regression\n",
    "\n",
    "Regression in machine learning is a process of predicting a continuous value for a given input. It is also a supervised learning problem, where the model is trained on a labeled dataset, where the correct output value is provided for each input sample. The goal of the regression model is to learn the underlying relationship between the input features and the output value, which can be used to predict the value for new unseen inputs. Some common regression algorithms include linear regression, multiple linear regression, polynomial regression, and decision tree regression."
   ]
  },
  {
   "cell_type": "code",
   "execution_count": 13,
   "metadata": {},
   "outputs": [
    {
     "name": "stderr",
     "output_type": "stream",
     "text": [
      "C:\\Users\\ivanr\\AppData\\Roaming\\Python\\Python38\\site-packages\\sklearn\\neural_network\\_multilayer_perceptron.py:614: ConvergenceWarning: Stochastic Optimizer: Maximum iterations (1000) reached and the optimization hasn't converged yet.\n",
      "  warnings.warn(\n"
     ]
    },
    {
     "data": {
      "text/plain": [
       "MLPRegressor(max_iter=1000)"
      ]
     },
     "execution_count": 13,
     "metadata": {},
     "output_type": "execute_result"
    }
   ],
   "source": [
    "from sklearn.datasets import load_diabetes\n",
    "from sklearn.neural_network import MLPRegressor\n",
    "\n",
    "diabetes_dataset = load_diabetes()\n",
    "data = pd.DataFrame(diabetes_dataset.data, columns=diabetes_dataset.feature_names)\n",
    "data['target'] = diabetes_dataset.target\n",
    "\n",
    "validation = data.sample(5)\n",
    "data.drop(validation.index, axis=0, inplace=True)\n",
    "\n",
    "features = data.drop('target', axis=1)\n",
    "x_train, x_test, y_train, y_test = train_test_split(features, data['target'], random_state=42, test_size=0.25)\n",
    "\n",
    "model = MLPRegressor(max_iter=1000)\n",
    "model.fit(x_train, y_train)"
   ]
  },
  {
   "cell_type": "code",
   "execution_count": 20,
   "metadata": {},
   "outputs": [
    {
     "data": {
      "text/plain": [
       "0.5956825602628686"
      ]
     },
     "execution_count": 20,
     "metadata": {},
     "output_type": "execute_result"
    }
   ],
   "source": [
    "model.score(validation.iloc[:, 0:-1],validation.iloc[:, -1])"
   ]
  },
  {
   "cell_type": "code",
   "execution_count": null,
   "metadata": {},
   "outputs": [],
   "source": []
  }
 ],
 "metadata": {
  "kernelspec": {
   "display_name": "PhD",
   "language": "python",
   "name": "python3"
  },
  "language_info": {
   "codemirror_mode": {
    "name": "ipython",
    "version": 3
   },
   "file_extension": ".py",
   "mimetype": "text/x-python",
   "name": "python",
   "nbconvert_exporter": "python",
   "pygments_lexer": "ipython3",
   "version": "3.8.12"
  },
  "orig_nbformat": 4,
  "vscode": {
   "interpreter": {
    "hash": "e17d129d6f27db8b87f58b5fa141e866dbba91479774a0f83bbb21f59b590d58"
   }
  }
 },
 "nbformat": 4,
 "nbformat_minor": 2
}
