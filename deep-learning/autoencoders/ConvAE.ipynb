{
 "cells": [
  {
   "cell_type": "code",
   "execution_count": 1,
   "metadata": {},
   "outputs": [],
   "source": [
    "import torch\n",
    "import random\n",
    "import numpy as np\n",
    "import torch.nn as nn\n",
    "import matplotlib.pyplot as plt\n",
    "import torch.nn.functional as F\n",
    "from torchvision import datasets, transforms\n",
    "device = torch.device('cuda' if torch.cuda.is_available() else 'cpu')"
   ]
  },
  {
   "cell_type": "code",
   "execution_count": 2,
   "metadata": {},
   "outputs": [
    {
     "name": "stdout",
     "output_type": "stream",
     "text": [
      "Files already downloaded and verified\n"
     ]
    }
   ],
   "source": [
    "batch_size = 32\n",
    "\n",
    "train_loader = torch.utils.data.DataLoader(\n",
    "    datasets.CIFAR10('data', train=True, download=True,\n",
    "                    transform=transforms.ToTensor()),\n",
    "    batch_size=batch_size, shuffle=True\n",
    ")\n",
    "\n",
    "test_loader = torch.utils.data.DataLoader(\n",
    "    datasets.CIFAR10('data', train=False, transform=transforms.ToTensor()),\n",
    "    batch_size=1\n",
    ")"
   ]
  },
  {
   "cell_type": "code",
   "execution_count": 3,
   "metadata": {},
   "outputs": [],
   "source": [
    "import math\n",
    "\n",
    "def size_output_conv(Width, Height, layer):\n",
    "    \"\"\"\n",
    "    W_in: Width input\n",
    "    H_in: Height input\n",
    "    O: Out channels\n",
    "    K: Kernel size\n",
    "    P: padding\n",
    "    S: Stride\n",
    "    \"\"\"\n",
    "    O = layer.out_channels\n",
    "    K = layer.kernel_size[0]\n",
    "    P = layer.padding[0]\n",
    "    S = layer.stride[0]\n",
    "    W_out = math.floor(((Width - K + 2*P) / S) + 1)\n",
    "    H_out = math.floor(((Height - K + 2*P) / S) + 1)\n",
    "    Out_channels = O\n",
    "    return (Out_channels, W_out, H_out)"
   ]
  },
  {
   "cell_type": "code",
   "execution_count": 20,
   "metadata": {},
   "outputs": [],
   "source": [
    "class Autoencoder(nn.Module):\n",
    "    def __init__(self):\n",
    "        super(Autoencoder, self).__init__()\n",
    "\n",
    "        self.encoder = nn.Sequential(\n",
    "            nn.Conv2d(3, 16, kernel_size = 2, stride = 2, padding = 1),\n",
    "            # nn.MaxPool2d(2, stride=2)\n",
    "            nn.Conv2d(16, 8, kernel_size = 2, stride = 2, padding = 1)\n",
    "        )\n",
    "\n",
    "        self.decoder = nn.Sequential(\n",
    "            nn.ConvTranspose2d(8, 16, kernel_size = 2, stride = 2, padding = 1),\n",
    "            nn.ConvTranspose2d(16, 3, kernel_size = 2, stride = 2, padding = 1),\n",
    "        )\n",
    "    \n",
    "    def forward(self, x):\n",
    "        x = self.encoder(x)\n",
    "        x = self.decoder(x)\n",
    "        return x"
   ]
  },
  {
   "cell_type": "code",
   "execution_count": 21,
   "metadata": {},
   "outputs": [
    {
     "data": {
      "text/plain": [
       "Autoencoder(\n",
       "  (encoder): Sequential(\n",
       "    (0): Conv2d(3, 16, kernel_size=(2, 2), stride=(2, 2), padding=(1, 1))\n",
       "    (1): Conv2d(16, 8, kernel_size=(2, 2), stride=(2, 2), padding=(1, 1))\n",
       "  )\n",
       "  (decoder): Sequential(\n",
       "    (0): ConvTranspose2d(8, 16, kernel_size=(2, 2), stride=(2, 2), padding=(1, 1))\n",
       "    (1): ConvTranspose2d(16, 3, kernel_size=(2, 2), stride=(2, 2), padding=(1, 1))\n",
       "  )\n",
       ")"
      ]
     },
     "execution_count": 21,
     "metadata": {},
     "output_type": "execute_result"
    }
   ],
   "source": [
    "model = Autoencoder()\n",
    "model.cuda()"
   ]
  },
  {
   "cell_type": "code",
   "execution_count": 22,
   "metadata": {},
   "outputs": [
    {
     "name": "stdout",
     "output_type": "stream",
     "text": [
      "In torch.Size([3, 32, 32])\n",
      "Out torch.Size([3, 30, 30])\n"
     ]
    },
    {
     "data": {
      "image/png": "[encoded data removed]",
      "text/plain": [
       "<Figure size 432x288 with 1 Axes>"
      ]
     },
     "metadata": {
      "needs_background": "light"
     },
     "output_type": "display_data"
    }
   ],
   "source": [
    "batch_data = next(iter(train_loader))\n",
    "img = batch_data[0][0]\n",
    "print(f\"In {img.shape}\")\n",
    "img = transforms.ToPILImage()(img)\n",
    "img = np.array(img)\n",
    "plt.subplot(121)\n",
    "plt.imshow(img)\n",
    "\n",
    "imgs = batch_data[0].to(device)\n",
    "out = model(imgs)[0]\n",
    "print(f\"Out {out.shape}\")\n",
    "# out = transforms.ToPILImage()(out)\n",
    "# out = np.array(out)\n",
    "# plt.subplot(122)\n",
    "# plt.imshow(out)"
   ]
  },
  {
   "cell_type": "code",
   "execution_count": 6,
   "metadata": {},
   "outputs": [
    {
     "name": "stdout",
     "output_type": "stream",
     "text": [
      "Epoch 1 \t\t Training Loss: 0.29029252975094666 \t\t Validation Loss: 0.0005992103386128293\n",
      "Epoch 2 \t\t Training Loss: 0.01150733523707782 \t\t Validation Loss: 0.0002057393324360419\n",
      "Epoch 3 \t\t Training Loss: 0.0039177369284643165 \t\t Validation Loss: 6.616296046532852e-05\n",
      "Epoch 4 \t\t Training Loss: 0.0014173013003369029 \t\t Validation Loss: 2.8082688667947765e-05\n",
      "Epoch 5 \t\t Training Loss: 0.0005617710906807473 \t\t Validation Loss: 1.1437113323941616e-05\n",
      "Epoch 6 \t\t Training Loss: 0.00018360729301068648 \t\t Validation Loss: 3.6481423332929806e-06\n",
      "Epoch 7 \t\t Training Loss: 6.691908903055904e-05 \t\t Validation Loss: 1.1716550331837716e-06\n",
      "Epoch 8 \t\t Training Loss: 3.46528257776291e-05 \t\t Validation Loss: 3.3283732373547535e-06\n",
      "Epoch 9 \t\t Training Loss: 2.1288157502798056e-05 \t\t Validation Loss: 4.7560186868622623e-07\n",
      "Epoch 10 \t\t Training Loss: 1.188384095408789e-05 \t\t Validation Loss: 1.8593672207938282e-07\n"
     ]
    }
   ],
   "source": [
    "model.to(device)\n",
    "criterion = nn.MSELoss()\n",
    "optimizer = torch.optim.Adam(model.parameters(), lr=0.001)\n",
    "\n",
    "n_epochs = 10\n",
    "\n",
    "for epoch in range(n_epochs):\n",
    "    train_loss = 0.0\n",
    "\n",
    "    for images, labels in train_loader:\n",
    "        images = images.cuda()\n",
    "        optimizer.zero_grad()\n",
    "        outputs = model(images)\n",
    "        loss = criterion(outputs, images)\n",
    "        loss.backward()\n",
    "        optimizer.step()\n",
    "        train_loss += loss.item()*images.size(0)\n",
    "    \n",
    "     # Validation\n",
    "    valid_loss = 0.0\n",
    "    model.eval() \n",
    "    for images, labels in test_loader:\n",
    "        images = images.cuda()\n",
    "        outputs = model(images)\n",
    "        loss = criterion(outputs, images)\n",
    "        valid_loss += loss.item()*images.size(0)\n",
    "\n",
    "    print(f'Epoch {epoch+1} \\t\\t Training Loss: {train_loss / len(train_loader)} \\t\\t Validation Loss: {valid_loss / len(test_loader)}')"
   ]
  },
  {
   "cell_type": "code",
   "execution_count": 12,
   "metadata": {},
   "outputs": [
    {
     "name": "stdout",
     "output_type": "stream",
     "text": [
      "In torch.Size([3, 32, 32])\n",
      "Out torch.Size([3, 32, 32])\n"
     ]
    },
    {
     "data": {
      "text/plain": [
       "<matplotlib.image.AxesImage at 0x20406bd9ca0>"
      ]
     },
     "execution_count": 12,
     "metadata": {},
     "output_type": "execute_result"
    },
    {
     "data": {
      "image/png": "[encoded data removed]",
      "text/plain": [
       "<Figure size 432x288 with 2 Axes>"
      ]
     },
     "metadata": {
      "needs_background": "light"
     },
     "output_type": "display_data"
    }
   ],
   "source": [
    "batch_data = next(iter(train_loader))\n",
    "img = batch_data[0][0]\n",
    "print(f\"In {img.shape}\")\n",
    "img = transforms.ToPILImage()(img)\n",
    "img = np.array(img)\n",
    "plt.subplot(121)\n",
    "plt.imshow(img)\n",
    "\n",
    "imgs = batch_data[0].to(device)\n",
    "out = model(imgs)[0]\n",
    "print(f\"Out {out.shape}\")\n",
    "out = transforms.ToPILImage()(out)\n",
    "out = np.array(out)\n",
    "plt.subplot(122)\n",
    "plt.imshow(out)"
   ]
  },
  {
   "cell_type": "code",
   "execution_count": null,
   "metadata": {},
   "outputs": [],
   "source": []
  }
 ],
 "metadata": {
  "kernelspec": {
   "display_name": "Python 3.8.12 ('PhD')",
   "language": "python",
   "name": "python3"
  },
  "language_info": {
   "codemirror_mode": {
    "name": "ipython",
    "version": 3
   },
   "file_extension": ".py",
   "mimetype": "text/x-python",
   "name": "python",
   "nbconvert_exporter": "python",
   "pygments_lexer": "ipython3",
   "version": "3.8.12"
  },
  "orig_nbformat": 4,
  "vscode": {
   "interpreter": {
    "hash": "e17d129d6f27db8b87f58b5fa141e866dbba91479774a0f83bbb21f59b590d58"
   }
  }
 },
 "nbformat": 4,
 "nbformat_minor": 2
}
