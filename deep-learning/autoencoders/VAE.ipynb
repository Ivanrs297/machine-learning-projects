{
 "cells": [
  {
   "cell_type": "markdown",
   "metadata": {},
   "source": [
    "# Variational Autoencoder (VAE)\n",
    "\n",
    "An autoencoder whose training is regularised to avoid overfitting and ensure that the latent space has good properties that enable generative process."
   ]
  },
  {
   "cell_type": "code",
   "execution_count": 1,
   "metadata": {},
   "outputs": [],
   "source": [
    "import torch\n",
    "import torch.nn.functional as F\n",
    "from torchvision import datasets, transforms\n",
    "import numpy as np\n",
    "import matplotlib.pyplot as plt\n",
    "import random"
   ]
  },
  {
   "cell_type": "markdown",
   "metadata": {},
   "source": [
    "## Hyperparameters"
   ]
  },
  {
   "cell_type": "code",
   "execution_count": 2,
   "metadata": {},
   "outputs": [],
   "source": [
    "batch_size = 128\n",
    "learning_rate = 0.001\n",
    "num_epochs = 10"
   ]
  },
  {
   "cell_type": "code",
   "execution_count": 3,
   "metadata": {},
   "outputs": [
    {
     "data": {
      "text/plain": [
       "device(type='cuda')"
      ]
     },
     "execution_count": 3,
     "metadata": {},
     "output_type": "execute_result"
    }
   ],
   "source": [
    "device = torch.device('cuda' if torch.cuda.is_available() else 'cpu')\n",
    "device"
   ]
  },
  {
   "cell_type": "markdown",
   "metadata": {},
   "source": [
    "## Dataset"
   ]
  },
  {
   "cell_type": "code",
   "execution_count": 4,
   "metadata": {},
   "outputs": [],
   "source": [
    "train_loader = torch.utils.data.DataLoader(\n",
    "    datasets.MNIST('data', train=True, download=True,\n",
    "                    transform=transforms.ToTensor()),\n",
    "    batch_size=batch_size, shuffle=True\n",
    ")\n",
    "\n",
    "test_loader = torch.utils.data.DataLoader(\n",
    "    datasets.MNIST('data', train=False, transform=transforms.ToTensor()),\n",
    "    batch_size=1\n",
    ")"
   ]
  },
  {
   "cell_type": "markdown",
   "metadata": {},
   "source": [
    "## Model"
   ]
  },
  {
   "cell_type": "code",
   "execution_count": 5,
   "metadata": {},
   "outputs": [],
   "source": [
    "from utils import VAE\n",
    "\n",
    "imgChannels = 1\n",
    "featureDim = 32 * 20 * 20\n",
    "zDim = 4\n",
    "\n",
    "model = VAE(imgChannels, featureDim, zDim).to(device)\n",
    "optimizer = torch.optim.Adam(\n",
    "    model.parameters(),\n",
    "    lr = learning_rate\n",
    ")\n"
   ]
  },
  {
   "cell_type": "markdown",
   "metadata": {},
   "source": [
    "### Training\n",
    "\n",
    "Denoising Autoencoder takes a noisy image as input and the target for the output layer is the original input without noise."
   ]
  },
  {
   "cell_type": "code",
   "execution_count": 6,
   "metadata": {},
   "outputs": [],
   "source": [
    "def add_noise(inputs, noise_factor = 0.3):\n",
    "     noisy = inputs + torch.randn_like(inputs) * noise_factor\n",
    "     noisy = torch.clip(noisy,0.,1.)\n",
    "     return noisy"
   ]
  },
  {
   "cell_type": "code",
   "execution_count": 7,
   "metadata": {},
   "outputs": [],
   "source": [
    "import torchvision.transforms as T\n",
    "from PIL import Image\n",
    "import transformations as trans\n",
    "\n",
    "img_list = next(iter(train_loader))\n",
    "img_list = img_list[0][0:2]\n",
    "# img = img.permute(1, 2, 0)\n",
    "\n",
    "# for img in img_list:\n",
    "#     print(img.shape)\n",
    "#     transform = T.ToPILImage()\n",
    "#     img = transform(img)\n",
    "#     img = np.array(img)\n",
    "#     # img = cv2.resize(img,(800,800))\n",
    "#     plt.subplot(121)\n",
    "#     plt.imshow( img )\n",
    "    \n",
    "#     noisy = trans.add_rain(img, rain_type = \"heavy\")\n",
    "#     plt.subplot(122)\n",
    "#     plt.imshow( noisy )\n",
    "#     plt.show()\n",
    "\n",
    "\n"
   ]
  },
  {
   "cell_type": "code",
   "execution_count": 8,
   "metadata": {},
   "outputs": [],
   "source": [
    "import transformations as trans\n",
    "import torchvision.transforms as T\n",
    "from PIL import Image\n",
    "\n",
    "def add_perturbation(inputs):\n",
    "\n",
    "    # print(inputs.shape, inputs.type())\n",
    "    transform = T.ToPILImage()\n",
    "    perturbed_imgs = []\n",
    "    \n",
    "    # process batch\n",
    "    for img in inputs:\n",
    "        img = transform(img)\n",
    "        img = np.array(img)\n",
    "        perturbed_img = trans.add_rain(img, rain_type = \"heavy\")\n",
    "        perturbed_imgs.append(perturbed_img)\n",
    "\n",
    "    perturbed_imgs = np.array(perturbed_imgs) \n",
    "    perturbed_imgs = torch.from_numpy(perturbed_imgs).permute(0, 3, 2, 1)\n",
    "    perturbed_imgs = perturbed_imgs.to(torch.float)\n",
    "    # print(perturbed_imgs.shape, perturbed_imgs.type())\n",
    "    return perturbed_imgs\n"
   ]
  },
  {
   "cell_type": "code",
   "execution_count": 13,
   "metadata": {},
   "outputs": [
    {
     "name": "stderr",
     "output_type": "stream",
     "text": [
      "C:\\Users\\ivanr\\AppData\\Local\\Temp\\ipykernel_11448\\2112589728.py:36: UserWarning: Using a target size (torch.Size([1, 1, 28, 28])) that is different to the input size (torch.Size([96, 1, 28, 28])). This will likely lead to incorrect results due to broadcasting. Please ensure they have the same size.\n",
      "  loss = F.mse_loss(out, data)\n"
     ]
    },
    {
     "name": "stdout",
     "output_type": "stream",
     "text": [
      "Epoch 1 \t\t Training Loss: 0.09862823582597888 \t\t Validation Loss: 0.08802150701098144\n",
      "Epoch 2 \t\t Training Loss: 0.05816045571873183 \t\t Validation Loss: 0.09523405119478702\n"
     ]
    }
   ],
   "source": [
    "for epoch in range(num_epochs):\n",
    "    train_loss = 0.0\n",
    "    for data, labels in train_loader:\n",
    "        \n",
    "        data = add_noise(data)\n",
    "\n",
    "        if torch.cuda.is_available():\n",
    "            data, labels = data.cuda(), labels.cuda()\n",
    "\n",
    "        # Feeding a batch of images into the network to obtain the output image, mu, and logVar\n",
    "        out, mu, logVar = model(data)\n",
    "\n",
    "        # For Generating is better KL\n",
    "        # The loss is the BCE loss combined with the KL divergence to ensure the distribution is learnt\n",
    "        # kl_divergence = 0.5 * torch.sum(-1 - logVar + mu.pow(2) + logVar.exp())\n",
    "        # loss = F.binary_cross_entropy(out, data, size_average=False) + kl_divergence\n",
    "\n",
    "        # For Denoising is better MSE\n",
    "        loss = F.mse_loss(out, data)\n",
    "\n",
    "        # Backpropagation based on the loss\n",
    "        optimizer.zero_grad()\n",
    "        loss.backward()\n",
    "        optimizer.step()\n",
    "        train_loss += loss.item()\n",
    "\n",
    "    # Validation\n",
    "    valid_loss = 0.0\n",
    "    model.eval() \n",
    "    for data, labels in test_loader:\n",
    "\n",
    "        if torch.cuda.is_available():\n",
    "            data, labels = data.cuda(), labels.cuda()\n",
    "         \n",
    "        out = model(data)\n",
    "        loss = F.mse_loss(out, data)\n",
    "        valid_loss += loss.item()\n",
    "\n",
    "    print(f'Epoch {epoch+1} \\t\\t Training Loss: {train_loss / len(train_loader)} \\t\\t Validation Loss: {valid_loss / len(test_loader)}')"
   ]
  },
  {
   "cell_type": "markdown",
   "metadata": {},
   "source": [
    "## Visualization and Evaluation"
   ]
  },
  {
   "cell_type": "code",
   "execution_count": 14,
   "metadata": {},
   "outputs": [
    {
     "data": {
      "image/png": "[encoded data removed]",
      "text/plain": [
       "<Figure size 432x288 with 3 Axes>"
      ]
     },
     "metadata": {
      "needs_background": "light"
     },
     "output_type": "display_data"
    },
    {
     "data": {
      "image/png": "[encoded data removed]",
      "text/plain": [
       "<Figure size 432x288 with 3 Axes>"
      ]
     },
     "metadata": {
      "needs_background": "light"
     },
     "output_type": "display_data"
    },
    {
     "data": {
      "image/png": "[encoded data removed]",
      "text/plain": [
       "<Figure size 432x288 with 3 Axes>"
      ]
     },
     "metadata": {
      "needs_background": "light"
     },
     "output_type": "display_data"
    },
    {
     "data": {
      "image/png": "[encoded data removed]",
      "text/plain": [
       "<Figure size 432x288 with 3 Axes>"
      ]
     },
     "metadata": {
      "needs_background": "light"
     },
     "output_type": "display_data"
    },
    {
     "data": {
      "image/png": "[encoded data removed]",
      "text/plain": [
       "<Figure size 432x288 with 3 Axes>"
      ]
     },
     "metadata": {
      "needs_background": "light"
     },
     "output_type": "display_data"
    }
   ],
   "source": [
    "model.eval()\n",
    "imgs_to_show = 5\n",
    "\n",
    "with torch.no_grad():\n",
    "    for data in random.sample(list(test_loader), imgs_to_show):\n",
    "        \n",
    "        # Original\n",
    "        imgs, _ = data\n",
    "        imgs = imgs.to(device)\n",
    "        img = np.transpose(imgs[0].cpu().numpy(), [1,2,0])\n",
    "        plt.subplot(131)\n",
    "        plt.title(\"Original\")\n",
    "        plt.imshow(np.squeeze(img), cmap='gray')\n",
    "\n",
    "        # Original + Noise\n",
    "        imgs, _ = data\n",
    "        imgs = add_noise(imgs, 0.3)\n",
    "        imgs = imgs.to(device)\n",
    "        img = np.transpose(imgs[0].cpu().numpy(), [1,2,0])\n",
    "        plt.subplot(132)\n",
    "        plt.title(\"Original + Noise\")\n",
    "        plt.imshow(np.squeeze(img), cmap='gray')\n",
    "\n",
    "        # Generated\n",
    "        out, mu, logVAR = model(imgs)\n",
    "        outimg = np.transpose(out[0].cpu().numpy(), [1,2,0])\n",
    "        plt.subplot(133)\n",
    "        plt.imshow(np.squeeze(outimg), cmap='gray')\n",
    "        plt.title(\"Generated\")\n",
    "        plt.show()"
   ]
  },
  {
   "cell_type": "code",
   "execution_count": null,
   "metadata": {},
   "outputs": [],
   "source": []
  }
 ],
 "metadata": {
  "interpreter": {
   "hash": "08eff465d0ce3bd3f336eba85ed8ff2421a424aeb98733e7972afcc41a3b0090"
  },
  "kernelspec": {
   "display_name": "Python 3.9.11 ('PhD')",
   "language": "python",
   "name": "python3"
  },
  "language_info": {
   "codemirror_mode": {
    "name": "ipython",
    "version": 3
   },
   "file_extension": ".py",
   "mimetype": "text/x-python",
   "name": "python",
   "nbconvert_exporter": "python",
   "pygments_lexer": "ipython3",
   "version": "3.9.11"
  },
  "orig_nbformat": 4
 },
 "nbformat": 4,
 "nbformat_minor": 2
}
