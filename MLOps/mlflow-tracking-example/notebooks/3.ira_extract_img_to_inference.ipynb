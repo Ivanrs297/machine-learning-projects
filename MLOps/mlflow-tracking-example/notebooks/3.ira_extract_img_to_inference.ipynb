{
 "cells": [
  {
   "cell_type": "code",
   "execution_count": 6,
   "metadata": {},
   "outputs": [],
   "source": [
    "import json\n",
    "import torch\n",
    "from torchvision import transforms\n",
    "from PIL import Image\n",
    "\n",
    "# Define preprocessing\n",
    "preprocess = transforms.Compose([\n",
    "    transforms.Resize((28, 28)),\n",
    "    transforms.ToTensor(),\n",
    "    transforms.Normalize(mean=[0.5], std=[0.5])  # Normalize as done during training\n",
    "])\n",
    "\n",
    "# Load and preprocess the image\n",
    "image = Image.open(\"example.png\")\n",
    "image_tensor = preprocess(image).unsqueeze(0)  # Add batch dimension\n",
    "\n",
    "# Convert the tensor to a list for JSON\n",
    "image_numpy = image_tensor.numpy().tolist()\n",
    "\n",
    "# Create the dictionary structure\n",
    "data_dict = {\n",
    "    \"inputs\": image_numpy  # Store the preprocessed image tensor in the \"inputs\" key\n",
    "}\n",
    "\n",
    "# Convert the dictionary to a JSON string\n",
    "data_json = json.dumps(data_dict)\n"
   ]
  },
  {
   "cell_type": "code",
   "execution_count": 7,
   "metadata": {},
   "outputs": [],
   "source": [
    "import json\n",
    "\n",
    "data = json.loads(data_json)"
   ]
  },
  {
   "cell_type": "code",
   "execution_count": 8,
   "metadata": {},
   "outputs": [],
   "source": [
    "with open('data.json', 'w') as f:\n",
    "    json.dump(data, f)"
   ]
  },
  {
   "cell_type": "code",
   "execution_count": null,
   "metadata": {},
   "outputs": [],
   "source": []
  }
 ],
 "metadata": {
  "kernelspec": {
   "display_name": "micai",
   "language": "python",
   "name": "python3"
  },
  "language_info": {
   "codemirror_mode": {
    "name": "ipython",
    "version": 3
   },
   "file_extension": ".py",
   "mimetype": "text/x-python",
   "name": "python",
   "nbconvert_exporter": "python",
   "pygments_lexer": "ipython3",
   "version": "3.10.15"
  }
 },
 "nbformat": 4,
 "nbformat_minor": 2
}
