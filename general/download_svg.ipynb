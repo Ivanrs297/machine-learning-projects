{
 "cells": [
  {
   "cell_type": "code",
   "execution_count": 4,
   "metadata": {},
   "outputs": [
    {
     "name": "stdout",
     "output_type": "stream",
     "text": [
      "Plot 1 has been saved to: saved_plots\\plot_1.svg\n",
      "Plot 2 has been saved to: saved_plots\\plot_2.svg\n",
      "Plot 3 has been saved to: saved_plots\\plot_3.svg\n",
      "Plot 4 has been saved to: saved_plots\\plot_4.svg\n",
      "Plot 5 has been saved to: saved_plots\\plot_5.svg\n",
      "Plot 6 has been saved to: saved_plots\\plot_6.svg\n",
      "Plot 7 has been saved to: saved_plots\\plot_7.svg\n",
      "Plot 8 has been saved to: saved_plots\\plot_8.svg\n",
      "Plot 9 has been saved to: saved_plots\\plot_9.svg\n",
      "Plot 10 has been saved to: saved_plots\\plot_10.svg\n",
      "Plot 11 has been saved to: saved_plots\\plot_11.svg\n",
      "Plot 12 has been saved to: saved_plots\\plot_12.svg\n",
      "Plot 13 has been saved to: saved_plots\\plot_13.svg\n",
      "Plot 14 has been saved to: saved_plots\\plot_14.svg\n",
      "Plot 15 has been saved to: saved_plots\\plot_15.svg\n",
      "Plot 16 has been saved to: saved_plots\\plot_16.svg\n"
     ]
    }
   ],
   "source": [
    "from bs4 import BeautifulSoup\n",
    "import os\n",
    "import re\n",
    "\n",
    "def parse_viewbox(svg):\n",
    "    \"\"\" Extracts or estimates the viewBox from an SVG element, handling units or missing data gracefully. \"\"\"\n",
    "    viewbox = svg.get('viewBox')\n",
    "    if viewbox:\n",
    "        return list(map(float, viewbox.split()))\n",
    "    width, height = svg.get('width', '100'), svg.get('height', '100')\n",
    "    # Extract numbers only, assuming default conversions if needed.\n",
    "    width = float(re.findall(r\"[\\d.]+\", width)[0]) if re.findall(r\"[\\d.]+\", width) else 100\n",
    "    height = float(re.findall(r\"[\\d.]+\", height)[0]) if re.findall(r\"[\\d.]+\", height) else 100\n",
    "    return [0, 0, width, height]\n",
    "\n",
    "def calculate_canvas_size(svgs):\n",
    "    \"\"\" Calculates the size of the canvas based on the maximum dimensions of the SVGs. \"\"\"\n",
    "    max_width = max_height = 0\n",
    "    for svg in svgs:\n",
    "        _, _, width, height = parse_viewbox(svg)\n",
    "        max_width = max(max_width, width)\n",
    "        max_height = max(max_height, height)\n",
    "    return [0, 0, max_width, max_height]\n",
    "\n",
    "def save_plots_as_svg(html_file_path, output_directory, div_class):\n",
    "    os.makedirs(output_directory, exist_ok=True)  # Ensure the output directory exists\n",
    "    with open(html_file_path, 'r', encoding='utf-8') as file:\n",
    "        html_content = file.read()\n",
    "    soup = BeautifulSoup(html_content, 'lxml')\n",
    "    divs = soup.find_all('div', class_=div_class)\n",
    "    for idx, div in enumerate(divs, start=1):\n",
    "        # Filter out SVGs that are within any 'modebar-container' inside this div\n",
    "        svgs = [svg for svg in div.find_all('svg') if 'modebar-container' not in {parent['class'][0] for parent in svg.parents if parent.has_attr('class')}]\n",
    "        if not svgs:\n",
    "            continue\n",
    "        canvas_viewbox = calculate_canvas_size(svgs)\n",
    "        merged_svg_content = f'<svg xmlns=\"http://www.w3.org/2000/svg\" viewBox=\"{canvas_viewbox[0]} {canvas_viewbox[1]} {canvas_viewbox[2]} {canvas_viewbox[3]}\" style=\"overflow: hidden;\">\\n'\n",
    "        for svg in svgs:\n",
    "            _, _, width, height = parse_viewbox(svg)\n",
    "            x_translate = (canvas_viewbox[2] - width) / 2\n",
    "            y_translate = (canvas_viewbox[3] - height) / 2\n",
    "            svg_str = str(svg)\n",
    "            start_pos = svg_str.find('>') + 1\n",
    "            end_pos = svg_str.rfind('</svg>')\n",
    "            if start_pos == -1 or end_pos == -1:\n",
    "                continue  # Skip if tags are malformed\n",
    "            svg_content = svg_str[start_pos:end_pos]\n",
    "            transform = f'translate({x_translate}, {y_translate})'\n",
    "            merged_svg_content += f'<g transform=\"{transform}\">\\n{svg_content}\\n</g>\\n'\n",
    "        merged_svg_content += '</svg>'\n",
    "        output_file_path = os.path.join(output_directory, f'plot_{idx}.svg')\n",
    "        with open(output_file_path, 'w', encoding='utf-8') as file:\n",
    "            file.write(merged_svg_content)\n",
    "        print(f\"Plot {idx} has been saved to: {output_file_path}\")\n",
    "    if len(divs) == 0:\n",
    "        print(\"No divs found with the class\", div_class)\n",
    "\n",
    "# Usage example\n",
    "save_plots_as_svg(\"SEC Train Test Validation Suite.html\", 'saved_plots', 'plot-container plotly')\n"
   ]
  },
  {
   "cell_type": "code",
   "execution_count": null,
   "metadata": {},
   "outputs": [],
   "source": []
  }
 ],
 "metadata": {
  "kernelspec": {
   "display_name": "Python 3",
   "language": "python",
   "name": "python3"
  },
  "language_info": {
   "codemirror_mode": {
    "name": "ipython",
    "version": 3
   },
   "file_extension": ".py",
   "mimetype": "text/x-python",
   "name": "python",
   "nbconvert_exporter": "python",
   "pygments_lexer": "ipython3",
   "version": "3.8.0"
  }
 },
 "nbformat": 4,
 "nbformat_minor": 2
}
