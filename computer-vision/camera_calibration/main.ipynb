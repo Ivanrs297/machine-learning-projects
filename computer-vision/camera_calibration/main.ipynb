{
 "cells": [
  {
   "cell_type": "code",
   "execution_count": 44,
   "metadata": {},
   "outputs": [],
   "source": [
    "import cv2\n",
    "import numpy as np\n",
    "import pathlib\n",
    "import glob\n",
    "\n",
    "\n",
    "def calibrate_chessboard(image_format, square_size, width, height):\n",
    "    '''Calibrate a camera using chessboard images.'''\n",
    "    # termination criteria\n",
    "    criteria = (cv2.TERM_CRITERIA_EPS + cv2.TERM_CRITERIA_MAX_ITER, 30, 0.001)\n",
    "    \n",
    "    # prepare object points, like (0,0,0), (1,0,0), (2,0,0) ....,(8,6,0)\n",
    "    objp = np.zeros((height*width, 3), np.float32)\n",
    "    objp[:, :2] = np.mgrid[0:width, 0:height].T.reshape(-1, 2)\n",
    "\n",
    "    objp = objp * square_size\n",
    "\n",
    "    # Arrays to store object points and image points from all the images.\n",
    "    objpoints = []  # 3d point in real world space\n",
    "    imgpoints = []  # 2d points in image plane.\n",
    "\n",
    "    # images = pathlib.Path(dir_path).glob(f'*.{image_format}')\n",
    "    images = glob.glob('*.jpg')\n",
    "    print(\"IMAGES: \", images)\n",
    "    # return\n",
    "    # gray = None\n",
    "    # Iterate through all images\n",
    "    for fname in images:\n",
    "        print(\"here\")\n",
    "        img = cv2.imread(str(fname))\n",
    "        gray = cv2.cvtColor(img, cv2.COLOR_BGR2GRAY)\n",
    "\n",
    "        # Find the chess board corners\n",
    "        ret, corners = cv2.findChessboardCorners(gray, (width, height), None)\n",
    "\n",
    "        # If found, add object points, image points (after refining them)\n",
    "        if ret:\n",
    "            objpoints.append(objp)\n",
    "\n",
    "            corners2 = cv2.cornerSubPix(gray, corners, (11, 11), (-1, -1), criteria)\n",
    "            imgpoints.append(corners2)\n",
    "\n",
    "    # Calibrate camera\n",
    "    ret, mtx, dist, rvecs, tvecs = cv2.calibrateCamera(objpoints, imgpoints, gray.shape[::-1], None, None)\n",
    "\n",
    "    return [ret, mtx, dist, rvecs, tvecs]"
   ]
  },
  {
   "cell_type": "code",
   "execution_count": 45,
   "metadata": {},
   "outputs": [],
   "source": [
    "def save_coefficients(mtx, dist, path):\n",
    "    '''Save the camera matrix and the distortion coefficients to given path/file.'''\n",
    "    cv_file = cv2.FileStorage(path, cv2.FILE_STORAGE_WRITE)\n",
    "    cv_file.write('K', mtx)\n",
    "    cv_file.write('D', dist)\n",
    "    # note you *release* you don't close() a FileStorage object\n",
    "    cv_file.release()\n",
    "\n",
    "def load_coefficients(path):\n",
    "    '''Loads camera matrix and distortion coefficients.'''\n",
    "    # FILE_STORAGE_READ\n",
    "    cv_file = cv2.FileStorage(path, cv2.FILE_STORAGE_READ)\n",
    "\n",
    "    # note we also have to specify the type to retrieve other wise we only get a\n",
    "    # FileNode object back instead of a matrix\n",
    "    camera_matrix = cv_file.getNode('K').mat()\n",
    "    dist_matrix = cv_file.getNode('D').mat()\n",
    "\n",
    "    cv_file.release()\n",
    "    return [camera_matrix, dist_matrix]"
   ]
  },
  {
   "cell_type": "code",
   "execution_count": 46,
   "metadata": {},
   "outputs": [
    {
     "name": "stdout",
     "output_type": "stream",
     "text": [
      "IMAGES:  ['img1.jpg', 'img2.jpg']\n",
      "here\n",
      "here\n"
     ]
    },
    {
     "ename": "error",
     "evalue": "OpenCV(4.6.0) D:\\a\\opencv-python\\opencv-python\\opencv\\modules\\calib3d\\src\\calibration.cpp:3694: error: (-215:Assertion failed) nimages > 0 in function 'cv::calibrateCameraRO'\n",
     "output_type": "error",
     "traceback": [
      "\u001b[1;31m---------------------------------------------------------------------------\u001b[0m",
      "\u001b[1;31merror\u001b[0m                                     Traceback (most recent call last)",
      "\u001b[1;32md:\\Apps\\machine-learning-projects\\computer-vision\\camera_calibration\\main.ipynb Celda 3\u001b[0m in \u001b[0;36m<module>\u001b[1;34m\u001b[0m\n\u001b[0;32m      <a href='vscode-notebook-cell:/d%3A/Apps/machine-learning-projects/computer-vision/camera_calibration/main.ipynb#W2sZmlsZQ%3D%3D?line=4'>5</a>\u001b[0m HEIGHT \u001b[39m=\u001b[39m \u001b[39m9\u001b[39m\n\u001b[0;32m      <a href='vscode-notebook-cell:/d%3A/Apps/machine-learning-projects/computer-vision/camera_calibration/main.ipynb#W2sZmlsZQ%3D%3D?line=6'>7</a>\u001b[0m \u001b[39m# Calibrate \u001b[39;00m\n\u001b[1;32m----> <a href='vscode-notebook-cell:/d%3A/Apps/machine-learning-projects/computer-vision/camera_calibration/main.ipynb#W2sZmlsZQ%3D%3D?line=7'>8</a>\u001b[0m ret, mtx, dist, rvecs, tvecs \u001b[39m=\u001b[39m calibrate_chessboard(\n\u001b[0;32m      <a href='vscode-notebook-cell:/d%3A/Apps/machine-learning-projects/computer-vision/camera_calibration/main.ipynb#W2sZmlsZQ%3D%3D?line=8'>9</a>\u001b[0m     IMAGES_FORMAT, \n\u001b[0;32m     <a href='vscode-notebook-cell:/d%3A/Apps/machine-learning-projects/computer-vision/camera_calibration/main.ipynb#W2sZmlsZQ%3D%3D?line=9'>10</a>\u001b[0m     SQUARE_SIZE, \n\u001b[0;32m     <a href='vscode-notebook-cell:/d%3A/Apps/machine-learning-projects/computer-vision/camera_calibration/main.ipynb#W2sZmlsZQ%3D%3D?line=10'>11</a>\u001b[0m     WIDTH, \n\u001b[0;32m     <a href='vscode-notebook-cell:/d%3A/Apps/machine-learning-projects/computer-vision/camera_calibration/main.ipynb#W2sZmlsZQ%3D%3D?line=11'>12</a>\u001b[0m     HEIGHT\n\u001b[0;32m     <a href='vscode-notebook-cell:/d%3A/Apps/machine-learning-projects/computer-vision/camera_calibration/main.ipynb#W2sZmlsZQ%3D%3D?line=12'>13</a>\u001b[0m )\n\u001b[0;32m     <a href='vscode-notebook-cell:/d%3A/Apps/machine-learning-projects/computer-vision/camera_calibration/main.ipynb#W2sZmlsZQ%3D%3D?line=13'>14</a>\u001b[0m \u001b[39m# Save coefficients into a file\u001b[39;00m\n\u001b[0;32m     <a href='vscode-notebook-cell:/d%3A/Apps/machine-learning-projects/computer-vision/camera_calibration/main.ipynb#W2sZmlsZQ%3D%3D?line=14'>15</a>\u001b[0m save_coefficients(mtx, dist, \u001b[39m\"\u001b[39m\u001b[39mcalibration_chessboard.yml\u001b[39m\u001b[39m\"\u001b[39m)\n",
      "\u001b[1;32md:\\Apps\\machine-learning-projects\\computer-vision\\camera_calibration\\main.ipynb Celda 3\u001b[0m in \u001b[0;36mcalibrate_chessboard\u001b[1;34m(image_format, square_size, width, height)\u001b[0m\n\u001b[0;32m     <a href='vscode-notebook-cell:/d%3A/Apps/machine-learning-projects/computer-vision/camera_calibration/main.ipynb#W2sZmlsZQ%3D%3D?line=40'>41</a>\u001b[0m         imgpoints\u001b[39m.\u001b[39mappend(corners2)\n\u001b[0;32m     <a href='vscode-notebook-cell:/d%3A/Apps/machine-learning-projects/computer-vision/camera_calibration/main.ipynb#W2sZmlsZQ%3D%3D?line=42'>43</a>\u001b[0m \u001b[39m# Calibrate camera\u001b[39;00m\n\u001b[1;32m---> <a href='vscode-notebook-cell:/d%3A/Apps/machine-learning-projects/computer-vision/camera_calibration/main.ipynb#W2sZmlsZQ%3D%3D?line=43'>44</a>\u001b[0m ret, mtx, dist, rvecs, tvecs \u001b[39m=\u001b[39m cv2\u001b[39m.\u001b[39;49mcalibrateCamera(objpoints, imgpoints, gray\u001b[39m.\u001b[39;49mshape[::\u001b[39m-\u001b[39;49m\u001b[39m1\u001b[39;49m], \u001b[39mNone\u001b[39;49;00m, \u001b[39mNone\u001b[39;49;00m)\n\u001b[0;32m     <a href='vscode-notebook-cell:/d%3A/Apps/machine-learning-projects/computer-vision/camera_calibration/main.ipynb#W2sZmlsZQ%3D%3D?line=45'>46</a>\u001b[0m \u001b[39mreturn\u001b[39;00m [ret, mtx, dist, rvecs, tvecs]\n",
      "\u001b[1;31merror\u001b[0m: OpenCV(4.6.0) D:\\a\\opencv-python\\opencv-python\\opencv\\modules\\calib3d\\src\\calibration.cpp:3694: error: (-215:Assertion failed) nimages > 0 in function 'cv::calibrateCameraRO'\n"
     ]
    }
   ],
   "source": [
    "# Parameters\n",
    "IMAGES_FORMAT = '.jpg'\n",
    "SQUARE_SIZE = 1.6\n",
    "WIDTH = 6\n",
    "HEIGHT = 9\n",
    "\n",
    "# Calibrate \n",
    "ret, mtx, dist, rvecs, tvecs = calibrate_chessboard(\n",
    "    IMAGES_FORMAT, \n",
    "    SQUARE_SIZE, \n",
    "    WIDTH, \n",
    "    HEIGHT\n",
    ")\n",
    "# Save coefficients into a file\n",
    "save_coefficients(mtx, dist, \"calibration_chessboard.yml\")"
   ]
  },
  {
   "cell_type": "code",
   "execution_count": null,
   "metadata": {},
   "outputs": [],
   "source": []
  }
 ],
 "metadata": {
  "kernelspec": {
   "display_name": "Python 3.8.12 ('PhD')",
   "language": "python",
   "name": "python3"
  },
  "language_info": {
   "codemirror_mode": {
    "name": "ipython",
    "version": 3
   },
   "file_extension": ".py",
   "mimetype": "text/x-python",
   "name": "python",
   "nbconvert_exporter": "python",
   "pygments_lexer": "ipython3",
   "version": "3.8.12"
  },
  "orig_nbformat": 4,
  "vscode": {
   "interpreter": {
    "hash": "e17d129d6f27db8b87f58b5fa141e866dbba91479774a0f83bbb21f59b590d58"
   }
  }
 },
 "nbformat": 4,
 "nbformat_minor": 2
}
