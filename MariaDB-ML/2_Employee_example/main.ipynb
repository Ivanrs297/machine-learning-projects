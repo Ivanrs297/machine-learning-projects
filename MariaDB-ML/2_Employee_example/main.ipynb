{
 "cells": [
  {
   "attachments": {},
   "cell_type": "markdown",
   "metadata": {},
   "source": [
    "# 2. MariaDB Employee Testing"
   ]
  },
  {
   "cell_type": "code",
   "execution_count": 2,
   "metadata": {},
   "outputs": [],
   "source": [
    "import mariadb\n",
    "import sys\n",
    "\n",
    "config = {\n",
    "    'host': '127.0.0.1',\n",
    "    'port': 3306,\n",
    "    'user': 'root',\n",
    "    'password': 'root',\n",
    "    'database': 'employees'\n",
    "}"
   ]
  },
  {
   "attachments": {},
   "cell_type": "markdown",
   "metadata": {},
   "source": [
    "## Connect to Database "
   ]
  },
  {
   "cell_type": "code",
   "execution_count": 3,
   "metadata": {},
   "outputs": [],
   "source": [
    "# connection for MariaDB\n",
    "try:\n",
    "    conn = mariadb.connect(**config)\n",
    "\n",
    "except mariadb.Error as e:\n",
    "    print(f\"Error connecting to MariaDB Platform: {e}\")\n",
    "    sys.exit(1)\n",
    "\n",
    "# Enable Auto-Commit\n",
    "conn.autocommit = True\n",
    "\n",
    "# create a connection cursor\n",
    "cur = conn.cursor()"
   ]
  },
  {
   "cell_type": "code",
   "execution_count": 77,
   "metadata": {},
   "outputs": [
    {
     "data": {
      "text/html": [
       "<div>\n",
       "<style scoped>\n",
       "    .dataframe tbody tr th:only-of-type {\n",
       "        vertical-align: middle;\n",
       "    }\n",
       "\n",
       "    .dataframe tbody tr th {\n",
       "        vertical-align: top;\n",
       "    }\n",
       "\n",
       "    .dataframe thead th {\n",
       "        text-align: right;\n",
       "    }\n",
       "</style>\n",
       "<table border=\"1\" class=\"dataframe\">\n",
       "  <thead>\n",
       "    <tr style=\"text-align: right;\">\n",
       "      <th></th>\n",
       "      <th>title</th>\n",
       "      <th>salary</th>\n",
       "      <th>from_date</th>\n",
       "    </tr>\n",
       "  </thead>\n",
       "  <tbody>\n",
       "    <tr>\n",
       "      <th>0</th>\n",
       "      <td>Senior Engineer</td>\n",
       "      <td>60117</td>\n",
       "      <td>1986-06-26</td>\n",
       "    </tr>\n",
       "    <tr>\n",
       "      <th>1</th>\n",
       "      <td>Senior Engineer</td>\n",
       "      <td>62102</td>\n",
       "      <td>1987-06-26</td>\n",
       "    </tr>\n",
       "    <tr>\n",
       "      <th>2</th>\n",
       "      <td>Senior Engineer</td>\n",
       "      <td>66074</td>\n",
       "      <td>1988-06-25</td>\n",
       "    </tr>\n",
       "    <tr>\n",
       "      <th>3</th>\n",
       "      <td>Senior Engineer</td>\n",
       "      <td>66596</td>\n",
       "      <td>1989-06-25</td>\n",
       "    </tr>\n",
       "    <tr>\n",
       "      <th>4</th>\n",
       "      <td>Senior Engineer</td>\n",
       "      <td>66961</td>\n",
       "      <td>1990-06-25</td>\n",
       "    </tr>\n",
       "    <tr>\n",
       "      <th>...</th>\n",
       "      <td>...</td>\n",
       "      <td>...</td>\n",
       "      <td>...</td>\n",
       "    </tr>\n",
       "    <tr>\n",
       "      <th>9995</th>\n",
       "      <td>Senior Engineer</td>\n",
       "      <td>92424</td>\n",
       "      <td>1990-08-22</td>\n",
       "    </tr>\n",
       "    <tr>\n",
       "      <th>9996</th>\n",
       "      <td>Senior Engineer</td>\n",
       "      <td>54083</td>\n",
       "      <td>1986-06-14</td>\n",
       "    </tr>\n",
       "    <tr>\n",
       "      <th>9997</th>\n",
       "      <td>Senior Engineer</td>\n",
       "      <td>54484</td>\n",
       "      <td>1987-06-14</td>\n",
       "    </tr>\n",
       "    <tr>\n",
       "      <th>9998</th>\n",
       "      <td>Senior Engineer</td>\n",
       "      <td>58120</td>\n",
       "      <td>1988-06-13</td>\n",
       "    </tr>\n",
       "    <tr>\n",
       "      <th>9999</th>\n",
       "      <td>Senior Engineer</td>\n",
       "      <td>59691</td>\n",
       "      <td>1989-06-13</td>\n",
       "    </tr>\n",
       "  </tbody>\n",
       "</table>\n",
       "<p>10000 rows × 3 columns</p>\n",
       "</div>"
      ],
      "text/plain": [
       "                title  salary   from_date\n",
       "0     Senior Engineer   60117  1986-06-26\n",
       "1     Senior Engineer   62102  1987-06-26\n",
       "2     Senior Engineer   66074  1988-06-25\n",
       "3     Senior Engineer   66596  1989-06-25\n",
       "4     Senior Engineer   66961  1990-06-25\n",
       "...               ...     ...         ...\n",
       "9995  Senior Engineer   92424  1990-08-22\n",
       "9996  Senior Engineer   54083  1986-06-14\n",
       "9997  Senior Engineer   54484  1987-06-14\n",
       "9998  Senior Engineer   58120  1988-06-13\n",
       "9999  Senior Engineer   59691  1989-06-13\n",
       "\n",
       "[10000 rows x 3 columns]"
      ]
     },
     "execution_count": 77,
     "metadata": {},
     "output_type": "execute_result"
    }
   ],
   "source": [
    "import pandas as pd\n",
    "import matplotlib.pyplot as plt\n",
    "\n",
    "query = \"\"\"\n",
    "SELECT titles.title, salaries.salary, salaries.from_date\n",
    "FROM titles\n",
    "INNER JOIN salaries ON titles.emp_no=salaries.emp_no\n",
    "WHERE titles.title=\"Senior Engineer\"\n",
    "limit 10000;\"\"\"\n",
    "\n",
    "df = pd.read_sql(query, conn)\n",
    "df\n"
   ]
  },
  {
   "cell_type": "code",
   "execution_count": 79,
   "metadata": {},
   "outputs": [
    {
     "data": {
      "text/plain": [
       "title        object\n",
       "salary        int64\n",
       "from_date    object\n",
       "dtype: object"
      ]
     },
     "execution_count": 79,
     "metadata": {},
     "output_type": "execute_result"
    }
   ],
   "source": [
    "df.dtypes"
   ]
  },
  {
   "attachments": {},
   "cell_type": "markdown",
   "metadata": {},
   "source": [
    "Linear regression doesn't work on date data. Therefore we need to convert it into numerical value.The following code will convert the date into numerical value."
   ]
  },
  {
   "cell_type": "code",
   "execution_count": 80,
   "metadata": {},
   "outputs": [],
   "source": [
    "import datetime as dt\n",
    "\n",
    "df['from_date'] = pd.to_datetime(df['from_date'])\n",
    "df['from_date'] = df['from_date'].map(dt.datetime.toordinal)"
   ]
  },
  {
   "cell_type": "code",
   "execution_count": 81,
   "metadata": {},
   "outputs": [
    {
     "data": {
      "text/html": [
       "<div>\n",
       "<style scoped>\n",
       "    .dataframe tbody tr th:only-of-type {\n",
       "        vertical-align: middle;\n",
       "    }\n",
       "\n",
       "    .dataframe tbody tr th {\n",
       "        vertical-align: top;\n",
       "    }\n",
       "\n",
       "    .dataframe thead th {\n",
       "        text-align: right;\n",
       "    }\n",
       "</style>\n",
       "<table border=\"1\" class=\"dataframe\">\n",
       "  <thead>\n",
       "    <tr style=\"text-align: right;\">\n",
       "      <th></th>\n",
       "      <th>title</th>\n",
       "      <th>salary</th>\n",
       "      <th>from_date</th>\n",
       "    </tr>\n",
       "  </thead>\n",
       "  <tbody>\n",
       "    <tr>\n",
       "      <th>0</th>\n",
       "      <td>Senior Engineer</td>\n",
       "      <td>60117</td>\n",
       "      <td>725183</td>\n",
       "    </tr>\n",
       "    <tr>\n",
       "      <th>1</th>\n",
       "      <td>Senior Engineer</td>\n",
       "      <td>62102</td>\n",
       "      <td>725548</td>\n",
       "    </tr>\n",
       "    <tr>\n",
       "      <th>2</th>\n",
       "      <td>Senior Engineer</td>\n",
       "      <td>66074</td>\n",
       "      <td>725913</td>\n",
       "    </tr>\n",
       "    <tr>\n",
       "      <th>3</th>\n",
       "      <td>Senior Engineer</td>\n",
       "      <td>66596</td>\n",
       "      <td>726278</td>\n",
       "    </tr>\n",
       "    <tr>\n",
       "      <th>4</th>\n",
       "      <td>Senior Engineer</td>\n",
       "      <td>66961</td>\n",
       "      <td>726643</td>\n",
       "    </tr>\n",
       "    <tr>\n",
       "      <th>...</th>\n",
       "      <td>...</td>\n",
       "      <td>...</td>\n",
       "      <td>...</td>\n",
       "    </tr>\n",
       "    <tr>\n",
       "      <th>9995</th>\n",
       "      <td>Senior Engineer</td>\n",
       "      <td>92424</td>\n",
       "      <td>726701</td>\n",
       "    </tr>\n",
       "    <tr>\n",
       "      <th>9996</th>\n",
       "      <td>Senior Engineer</td>\n",
       "      <td>54083</td>\n",
       "      <td>725171</td>\n",
       "    </tr>\n",
       "    <tr>\n",
       "      <th>9997</th>\n",
       "      <td>Senior Engineer</td>\n",
       "      <td>54484</td>\n",
       "      <td>725536</td>\n",
       "    </tr>\n",
       "    <tr>\n",
       "      <th>9998</th>\n",
       "      <td>Senior Engineer</td>\n",
       "      <td>58120</td>\n",
       "      <td>725901</td>\n",
       "    </tr>\n",
       "    <tr>\n",
       "      <th>9999</th>\n",
       "      <td>Senior Engineer</td>\n",
       "      <td>59691</td>\n",
       "      <td>726266</td>\n",
       "    </tr>\n",
       "  </tbody>\n",
       "</table>\n",
       "<p>10000 rows × 3 columns</p>\n",
       "</div>"
      ],
      "text/plain": [
       "                title  salary  from_date\n",
       "0     Senior Engineer   60117     725183\n",
       "1     Senior Engineer   62102     725548\n",
       "2     Senior Engineer   66074     725913\n",
       "3     Senior Engineer   66596     726278\n",
       "4     Senior Engineer   66961     726643\n",
       "...               ...     ...        ...\n",
       "9995  Senior Engineer   92424     726701\n",
       "9996  Senior Engineer   54083     725171\n",
       "9997  Senior Engineer   54484     725536\n",
       "9998  Senior Engineer   58120     725901\n",
       "9999  Senior Engineer   59691     726266\n",
       "\n",
       "[10000 rows x 3 columns]"
      ]
     },
     "execution_count": 81,
     "metadata": {},
     "output_type": "execute_result"
    }
   ],
   "source": [
    "df"
   ]
  },
  {
   "cell_type": "code",
   "execution_count": 82,
   "metadata": {},
   "outputs": [
    {
     "data": {
      "text/plain": [
       "array([[725183],\n",
       "       [725548],\n",
       "       [725913],\n",
       "       [726278],\n",
       "       [726643],\n",
       "       [727008],\n",
       "       [727373],\n",
       "       [727738],\n",
       "       [728103],\n",
       "       [728468]], dtype=int64)"
      ]
     },
     "execution_count": 82,
     "metadata": {},
     "output_type": "execute_result"
    }
   ],
   "source": [
    "import numpy as np\n",
    "\n",
    "X = df[['from_date']].values\n",
    "X[0:10]"
   ]
  },
  {
   "cell_type": "code",
   "execution_count": 83,
   "metadata": {},
   "outputs": [
    {
     "data": {
      "text/plain": [
       "array([[60117],\n",
       "       [62102],\n",
       "       [66074],\n",
       "       [66596],\n",
       "       [66961],\n",
       "       [71046],\n",
       "       [74333],\n",
       "       [75286],\n",
       "       [75994],\n",
       "       [76884]], dtype=int64)"
      ]
     },
     "execution_count": 83,
     "metadata": {},
     "output_type": "execute_result"
    }
   ],
   "source": [
    "y = df[['salary']].values\n",
    "y[0:10]"
   ]
  },
  {
   "cell_type": "code",
   "execution_count": 84,
   "metadata": {},
   "outputs": [],
   "source": [
    "from sklearn.model_selection import train_test_split\n",
    "\n",
    "X_train, X_test, y_train, y_test = train_test_split(X, y, test_size=0.20, random_state=42)"
   ]
  },
  {
   "attachments": {},
   "cell_type": "markdown",
   "metadata": {},
   "source": [
    "## Linear Regression Model"
   ]
  },
  {
   "cell_type": "code",
   "execution_count": 85,
   "metadata": {},
   "outputs": [
    {
     "data": {
      "text/plain": [
       "0.1663817852993661"
      ]
     },
     "execution_count": 85,
     "metadata": {},
     "output_type": "execute_result"
    }
   ],
   "source": [
    "from sklearn.linear_model import LinearRegression\n",
    "\n",
    "reg = LinearRegression().fit(X_train, y_train)\n",
    "reg.score(X_test, y_test)"
   ]
  },
  {
   "cell_type": "code",
   "execution_count": 86,
   "metadata": {},
   "outputs": [
    {
     "data": {
      "text/plain": [
       "(array([[3.74728435]]), array([-2669012.45578515]))"
      ]
     },
     "execution_count": 86,
     "metadata": {},
     "output_type": "execute_result"
    }
   ],
   "source": [
    "reg.coef_, reg.intercept_"
   ]
  },
  {
   "cell_type": "code",
   "execution_count": 87,
   "metadata": {},
   "outputs": [
    {
     "data": {
      "text/plain": [
       "(array([724675], dtype=int64), array([731062], dtype=int64))"
      ]
     },
     "execution_count": 87,
     "metadata": {},
     "output_type": "execute_result"
    }
   ],
   "source": [
    "min(X), max(X)"
   ]
  },
  {
   "cell_type": "code",
   "execution_count": 88,
   "metadata": {},
   "outputs": [
    {
     "data": {
      "text/plain": [
       "(6387, 1)"
      ]
     },
     "execution_count": 88,
     "metadata": {},
     "output_type": "execute_result"
    }
   ],
   "source": [
    "X_plot = np.arange(min(X), max(X)).reshape(-1, 1)\n",
    "X_plot.shape"
   ]
  },
  {
   "attachments": {},
   "cell_type": "markdown",
   "metadata": {},
   "source": [
    "### Plot Model"
   ]
  },
  {
   "cell_type": "code",
   "execution_count": 126,
   "metadata": {},
   "outputs": [
    {
     "data": {
      "text/plain": [
       "<matplotlib.legend.Legend at 0x2be61cf73d0>"
      ]
     },
     "execution_count": 126,
     "metadata": {},
     "output_type": "execute_result"
    },
    {
     "data": {
      "image/png": "[encoded data removed]",
      "text/plain": [
       "<Figure size 576x432 with 1 Axes>"
      ]
     },
     "metadata": {
      "needs_background": "light"
     },
     "output_type": "display_data"
    }
   ],
   "source": [
    "y_plot = reg.predict(X_plot)\n",
    "\n",
    "plt.figure(figsize=(8,6))\n",
    "plt.scatter(X_test, y_test, label = \"Testing Points\")\n",
    "plt.plot(X_plot, y_plot, color = \"red\", label = \"Model\")\n",
    "plt.title(\"Salaries in 'Senior Engineer'\")\n",
    "plt.xlabel(\"Date (formatted)\")\n",
    "plt.ylabel(\"Salary\")\n",
    "plt.legend()\n"
   ]
  },
  {
   "attachments": {},
   "cell_type": "markdown",
   "metadata": {},
   "source": [
    "## Prediciton of Salary for today"
   ]
  },
  {
   "cell_type": "code",
   "execution_count": 108,
   "metadata": {},
   "outputs": [
    {
     "data": {
      "text/plain": [
       "array([737767], dtype=int64)"
      ]
     },
     "execution_count": 108,
     "metadata": {},
     "output_type": "execute_result"
    }
   ],
   "source": [
    "today = pd.to_datetime(pd.Series(\"2020-12-08\"))\n",
    "today = today.map(dt.datetime.toordinal)\n",
    "today.values"
   ]
  },
  {
   "cell_type": "code",
   "execution_count": 120,
   "metadata": {},
   "outputs": [
    {
     "name": "stdout",
     "output_type": "stream",
     "text": [
      "Your salary for today: $95610.0\n"
     ]
    }
   ],
   "source": [
    "today_predict = reg.predict(today.values.reshape(1,-1))\n",
    "print(f\"Your salary for today: ${np.round(today_predict[0][0])}\")"
   ]
  },
  {
   "cell_type": "code",
   "execution_count": 127,
   "metadata": {},
   "outputs": [
    {
     "data": {
      "text/plain": [
       "<matplotlib.legend.Legend at 0x2be61d3e640>"
      ]
     },
     "execution_count": 127,
     "metadata": {},
     "output_type": "execute_result"
    },
    {
     "data": {
      "image/png": "[encoded data removed]",
      "text/plain": [
       "<Figure size 576x432 with 1 Axes>"
      ]
     },
     "metadata": {
      "needs_background": "light"
     },
     "output_type": "display_data"
    }
   ],
   "source": [
    "X_plot = np.arange(min(X), today.values).reshape(-1, 1)\n",
    "y_plot = reg.predict(X_plot)\n",
    "\n",
    "plt.figure(figsize=(8,6))\n",
    "plt.scatter(today.values.reshape(1,-1), today_predict, color =\"g\",label=\"Today\")\n",
    "plt.scatter(X_test, y_test, label = \"Testing Points\")\n",
    "plt.plot(X_plot, y_plot, color = \"red\", label = \"Model\")\n",
    "plt.title(\"Salaries in 'Senior Engineer'\")\n",
    "plt.xlabel(\"Date (formatted)\")\n",
    "plt.ylabel(\"Salary\")\n",
    "plt.legend()"
   ]
  }
 ],
 "metadata": {
  "kernelspec": {
   "display_name": "PhD",
   "language": "python",
   "name": "python3"
  },
  "language_info": {
   "codemirror_mode": {
    "name": "ipython",
    "version": 3
   },
   "file_extension": ".py",
   "mimetype": "text/x-python",
   "name": "python",
   "nbconvert_exporter": "python",
   "pygments_lexer": "ipython3",
   "version": "3.8.12"
  },
  "orig_nbformat": 4,
  "vscode": {
   "interpreter": {
    "hash": "e17d129d6f27db8b87f58b5fa141e866dbba91479774a0f83bbb21f59b590d58"
   }
  }
 },
 "nbformat": 4,
 "nbformat_minor": 2
}
