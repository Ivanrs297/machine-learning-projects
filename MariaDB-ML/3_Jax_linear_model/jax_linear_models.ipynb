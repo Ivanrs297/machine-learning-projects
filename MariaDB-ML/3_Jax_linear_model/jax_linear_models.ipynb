{
  "cells": [
    {
      "cell_type": "markdown",
      "metadata": {
        "id": "lIqZPPuhyynW"
      },
      "source": [
        "# Jax Linear Model for Classification\n",
        "- Closed-form\n",
        "- Regularization $L_2$\n",
        "- **Adults** Dataset Case Study"
      ]
    },
    {
      "cell_type": "code",
      "execution_count": 353,
      "metadata": {
        "colab": {
          "base_uri": "https://localhost:8080/"
        },
        "id": "Bt1vAsXoZrwF",
        "outputId": "346564a8-5129-4d0c-dd1d-e665fd03ef8c"
      },
      "outputs": [
        {
          "name": "stdout",
          "output_type": "stream",
          "text": [
            "Looking in indexes: https://pypi.org/simple, https://us-python.pkg.dev/colab-wheels/public/simple/\n",
            "Requirement already satisfied: jax_metrics in /usr/local/lib/python3.8/dist-packages (0.1.2)\n",
            "Requirement already satisfied: einops<0.5.0,>=0.4.0 in /usr/local/lib/python3.8/dist-packages (from jax_metrics) (0.4.1)\n",
            "Requirement already satisfied: optax<0.2.0,>=0.1.1 in /usr/local/lib/python3.8/dist-packages (from jax_metrics) (0.1.4)\n",
            "Requirement already satisfied: treeo<0.3.0,>=0.2.1 in /usr/local/lib/python3.8/dist-packages (from jax_metrics) (0.2.1)\n",
            "Requirement already satisfied: certifi<2022.0.0,>=2021.10.8 in /usr/local/lib/python3.8/dist-packages (from jax_metrics) (2021.10.8)\n",
            "Requirement already satisfied: chex>=0.1.5 in /usr/local/lib/python3.8/dist-packages (from optax<0.2.0,>=0.1.1->jax_metrics) (0.1.5)\n",
            "Requirement already satisfied: absl-py>=0.7.1 in /usr/local/lib/python3.8/dist-packages (from optax<0.2.0,>=0.1.1->jax_metrics) (1.4.0)\n",
            "Requirement already satisfied: numpy>=1.18.0 in /usr/local/lib/python3.8/dist-packages (from optax<0.2.0,>=0.1.1->jax_metrics) (1.21.6)\n",
            "Requirement already satisfied: jaxlib>=0.1.37 in /usr/local/lib/python3.8/dist-packages (from optax<0.2.0,>=0.1.1->jax_metrics) (0.3.25+cuda11.cudnn805)\n",
            "Requirement already satisfied: typing-extensions>=3.10.0 in /usr/local/lib/python3.8/dist-packages (from optax<0.2.0,>=0.1.1->jax_metrics) (4.4.0)\n",
            "Requirement already satisfied: jax>=0.1.55 in /usr/local/lib/python3.8/dist-packages (from optax<0.2.0,>=0.1.1->jax_metrics) (0.3.25)\n",
            "Requirement already satisfied: dm-tree>=0.1.5 in /usr/local/lib/python3.8/dist-packages (from chex>=0.1.5->optax<0.2.0,>=0.1.1->jax_metrics) (0.1.8)\n",
            "Requirement already satisfied: toolz>=0.9.0 in /usr/local/lib/python3.8/dist-packages (from chex>=0.1.5->optax<0.2.0,>=0.1.1->jax_metrics) (0.12.0)\n",
            "Requirement already satisfied: opt-einsum in /usr/local/lib/python3.8/dist-packages (from jax>=0.1.55->optax<0.2.0,>=0.1.1->jax_metrics) (3.3.0)\n",
            "Requirement already satisfied: scipy>=1.5 in /usr/local/lib/python3.8/dist-packages (from jax>=0.1.55->optax<0.2.0,>=0.1.1->jax_metrics) (1.7.3)\n"
          ]
        }
      ],
      "source": [
        "!pip install jax_metrics"
      ]
    },
    {
      "cell_type": "code",
      "execution_count": 354,
      "metadata": {
        "id": "_q2K6xRaZjhi"
      },
      "outputs": [],
      "source": [
        "import jax\n",
        "import jax_metrics as jm\n",
        "import jax.numpy as jnp\n",
        "from jax import grad, jit, vmap\n",
        "from functools import partial\n",
        "from jax import random\n",
        "import os\n",
        "import numpy as np\n",
        "import matplotlib.pyplot as plt"
      ]
    },
    {
      "cell_type": "code",
      "execution_count": 355,
      "metadata": {
        "id": "tQIpOwGuZpv0"
      },
      "outputs": [],
      "source": [
        "class Linear_Model():\n",
        "    \"\"\"\n",
        "    Basic Linear Regression with Ridge Regression\n",
        "    \"\"\"\n",
        "    def __init__(self, dim: int) -> None:\n",
        "        self.dim = dim\n",
        "        self.key = random.PRNGKey(0)\n",
        "        self.cpus = jax.devices(\"cpu\")\n",
        "    \n",
        "    # The classic one\n",
        "    def generate_canonical_estimator(self, X: jnp, y:jnp) -> jnp:\n",
        "        \"\"\"\n",
        "        Cannonical LSE error solution for the Linearly separable classes \n",
        "        args:\n",
        "            X: Data array at the GPU or CPU\n",
        "            y: Label array at the GPU \n",
        "        returns:\n",
        "            w: Weight array at the GPU or CPU\n",
        "        \"\"\"\n",
        "        return  jax.numpy.linalg.inv(jax.numpy.transpose(X)@X)@jax.numpy.transpose(X)@y\n",
        "    \n",
        "    @staticmethod\n",
        "    @jit\n",
        "    def linear_model(X: jnp, theta: jnp) -> jnp:\n",
        "        \"\"\"\n",
        "        Classic Linear Model. Jit has been used to accelerate the loops after the first one\n",
        "        for the Gradient Descent part\n",
        "        args:\n",
        "            X: Data array at the GPU or CPU\n",
        "            theta: Parameter w for weights and b for bias\n",
        "        returns:\n",
        "            f(x): the escalar estimation on vector x or the array of estimations\n",
        "        \"\"\"\n",
        "        w = theta[:-1]\n",
        "        b = theta[-1]\n",
        "        return jax.numpy.matmul(X, w) + b\n",
        "    \n",
        "    @partial(jit, static_argnums=(0,))\n",
        "    def LSE(self, theta: jnp, X: jnp, y: jnp)-> jnp:\n",
        "        \"\"\"\n",
        "        LSE in matrix form. We also use Jit por froze info at self to follow \n",
        "        the idea of functional programming on Jit for no side effects\n",
        "        args:\n",
        "            X: Data array at the GPU or CPU\n",
        "            theta: Parameter w for weights and b for bias\n",
        "            y: array of labels\n",
        "        returns:\n",
        "            the Loss function LSE under data X, labels y and theta initial estimation\n",
        "        \"\"\"\n",
        "        return (jax.numpy.transpose(y - self.linear_model(X, theta))@(y - self.linear_model(X, theta)))[0,0]\n",
        "    \n",
        "    @partial(jit, static_argnums=(0,))\n",
        "    def update(self, theta: jnp, X: jnp, y: jnp, lr):\n",
        "        \"\"\"\n",
        "        Update makes use of the autograd at Jax to calculate the gradient descent.\n",
        "        args:\n",
        "            X: Data array at the GPU or CPU\n",
        "            theta: Parameter w for weights and b for bias\n",
        "            y: array of labels\n",
        "            lr: Learning rate for Gradient Descent\n",
        "        returns:\n",
        "            the step update w(n+1) = w(n)-δ(t)𝜵L(w(n))        \n",
        "        \"\"\"\n",
        "        return theta - lr * jax.grad(self.LSE)(theta, X, y)  \n",
        "\n",
        "    def generate_w_aug(self):\n",
        "        \"\"\"\n",
        "        Use the random generator at Jax to generate a random generator to instanciate\n",
        "        the augmented values\n",
        "        \"\"\"\n",
        "        keys = random.split(self.key, 1)\n",
        "        return jax.numpy.vstack([random.normal(keys, (self.dim,1)), jax.numpy.array(1)])\n",
        "    \n",
        "    def generate_theta(self):\n",
        "        \"\"\"\n",
        "        Use the random generator at Jax to generate a random generator to instanciate\n",
        "        the augmented values\n",
        "        \"\"\"\n",
        "        keys = random.split(self.key, 1)\n",
        "        return jax.numpy.vstack([random.normal(keys, (self.dim,1)), jax.numpy.array(0)])\n",
        "    \n",
        "    @partial(jit, static_argnums=(0,))\n",
        "    def estimate_grsl(self, X, theta):\n",
        "        \"\"\"\n",
        "        Estimation for the Gradient Descent version\n",
        "        args:\n",
        "            X: Data array at the GPU or CPU\n",
        "            theta: Parameter w for weights and b for bias\n",
        "        return:\n",
        "            Estimation of data X under linear model\n",
        "        \"\"\"\n",
        "        w = theta[:-1]\n",
        "        b = theta[-1]\n",
        "        return X@w+b\n",
        "    \n",
        "    @staticmethod\n",
        "    def estimate_cannonical(X: jnp, w: jnp)->jnp:\n",
        "        \"\"\"\n",
        "        Estimation for the Gradient Descent version\n",
        "        args:\n",
        "            X: Data array at the GPU or CPU\n",
        "            w: Parameter w under extended space\n",
        "        return:\n",
        "            Estimation of data X under cannonical solution\n",
        "        \"\"\"\n",
        "        return X@w\n",
        "    \n",
        "    def precision(self, y, y_hat):\n",
        "        \"\"\"\n",
        "        Precision\n",
        "        args:\n",
        "            y: Real Labels\n",
        "            y_hat: estimated labels\n",
        "        return TP/(TP+FP)\n",
        "        \"\"\"\n",
        "        TP = sum(y_hat[y>0]>0)\n",
        "        FP = sum(y_hat[y>0]<0)\n",
        "        precision_cpu = jax.jit(lambda x: x, device=self.cpus[0])(TP/(TP+FP))\n",
        "        return float(precision_cpu)\n",
        "    \n",
        "    def gradient_descent(self, theta: jnp,  X: jnp, y: jnp, n_steps: int, lr = 0.001):\n",
        "        \"\"\"\n",
        "        Gradient Descent Loop for the LSE Linear Model\n",
        "        args:\n",
        "            X: Data array at the GPU or CPU\n",
        "            theta: Parameter w for weights and b for bias\n",
        "            y: array of labels\n",
        "            n_steps: number steps for the Gradient Loop\n",
        "            lr: Learning rate for Gradient Descent   \n",
        "        return:\n",
        "            Updated Theta\n",
        "        \"\"\"\n",
        "        for i in range(n_steps):\n",
        "            theta = self.update(theta, X, y, lr)\n",
        "        return theta\n",
        "         "
      ]
    },
    {
      "cell_type": "markdown",
      "metadata": {
        "id": "_pfLg_i_Z2sQ"
      },
      "source": [
        "## Generate Data"
      ]
    },
    {
      "cell_type": "code",
      "execution_count": 356,
      "metadata": {
        "colab": {
          "base_uri": "https://localhost:8080/",
          "height": 283
        },
        "id": "QAxuuPkwZ3vk",
        "outputId": "0f2bbfde-8295-42db-a40f-677e3d3b36a8"
      },
      "outputs": [
        {
          "data": {
            "text/plain": [
              "[<matplotlib.lines.Line2D at 0x7f59d5ebc190>]"
            ]
          },
          "execution_count": 356,
          "metadata": {},
          "output_type": "execute_result"
        },
        {
          "data": {
            "image/png": "[encoded data removed]",
            "text/plain": [
              "<Figure size 432x288 with 1 Axes>"
            ]
          },
          "metadata": {
            "needs_background": "light"
          },
          "output_type": "display_data"
        }
      ],
      "source": [
        "X1 = np.random.normal(size=(100,2))\n",
        "X2 = np.random.normal(size=(100,2))+(5,5)\n",
        "\n",
        "plt.figure()\n",
        "plt.plot(X1[:,0], X1[:,1], 'ro')\n",
        "plt.plot(X2[:,0], X2[:,1], 'bo')"
      ]
    },
    {
      "cell_type": "markdown",
      "metadata": {
        "id": "dOEwxnO1Z-to"
      },
      "source": [
        "## Preprocessing for Cannonical version\n",
        "Data Augmentation is applied for the Cannonical version"
      ]
    },
    {
      "cell_type": "code",
      "execution_count": 357,
      "metadata": {
        "id": "DCV495bQZ-CZ"
      },
      "outputs": [],
      "source": [
        "X1_e = np.hstack([X1, np.ones((100,1))])\n",
        "X2_e = np.hstack([X2, np.ones((100,1))])\n",
        "X_e = np.vstack([X1_e, X2_e])\n",
        "X = np.vstack([X1, X2])\n",
        "y = np.vstack([-np.ones((100, 1)), np.ones((100, 1))])"
      ]
    },
    {
      "cell_type": "code",
      "execution_count": 358,
      "metadata": {
        "colab": {
          "base_uri": "https://localhost:8080/"
        },
        "id": "QKVu0XwMaBWd",
        "outputId": "03839b84-5cab-45cb-a0c6-4765b598dc32"
      },
      "outputs": [
        {
          "data": {
            "text/plain": [
              "((200, 3), (200, 1))"
            ]
          },
          "execution_count": 358,
          "metadata": {},
          "output_type": "execute_result"
        }
      ],
      "source": [
        "X_e.shape, y.shape"
      ]
    },
    {
      "cell_type": "markdown",
      "metadata": {
        "id": "b3o1-0l3aFRX"
      },
      "source": [
        "## Model"
      ]
    },
    {
      "cell_type": "code",
      "execution_count": 359,
      "metadata": {
        "colab": {
          "base_uri": "https://localhost:8080/"
        },
        "id": "xO_ffoVYaBoO",
        "outputId": "9d99cec2-9695-4b2e-eac6-02d9aa9163ba"
      },
      "outputs": [
        {
          "data": {
            "text/plain": [
              "<__main__.Linear_Model at 0x7f59d5e2d460>"
            ]
          },
          "execution_count": 359,
          "metadata": {},
          "output_type": "execute_result"
        }
      ],
      "source": [
        "dim = 2\n",
        "model = Linear_Model(dim)\n",
        "model"
      ]
    },
    {
      "cell_type": "code",
      "execution_count": 360,
      "metadata": {
        "colab": {
          "base_uri": "https://localhost:8080/"
        },
        "id": "NYsSfgckaGke",
        "outputId": "68df1147-7416-4e9d-a60f-cb17daab83c4"
      },
      "outputs": [
        {
          "data": {
            "text/plain": [
              "DeviceArray([[ 0.17097029],\n",
              "             [ 0.20537104],\n",
              "             [-0.9410413 ]], dtype=float32)"
            ]
          },
          "execution_count": 360,
          "metadata": {},
          "output_type": "execute_result"
        }
      ],
      "source": [
        "w = model.generate_canonical_estimator(X_e, y)\n",
        "w"
      ]
    },
    {
      "cell_type": "markdown",
      "metadata": {
        "id": "QBp2V41AaOdD"
      },
      "source": [
        "## Prediction"
      ]
    },
    {
      "cell_type": "code",
      "execution_count": 361,
      "metadata": {
        "colab": {
          "base_uri": "https://localhost:8080/"
        },
        "id": "FYpJ0X1DaLKi",
        "outputId": "28b899b5-1ad9-4701-add4-1d1699525605"
      },
      "outputs": [
        {
          "name": "stdout",
          "output_type": "stream",
          "text": [
            "1.0\n"
          ]
        }
      ],
      "source": [
        "y_hat = model.estimate_cannonical(X_e, w)\n",
        "print(model.precision(y, y_hat))"
      ]
    },
    {
      "cell_type": "markdown",
      "metadata": {
        "id": "fztnuwLravtH"
      },
      "source": [
        "# Homework"
      ]
    },
    {
      "cell_type": "code",
      "execution_count": 362,
      "metadata": {
        "colab": {
          "base_uri": "https://localhost:8080/"
        },
        "id": "MKlnpE_zaQ4K",
        "outputId": "f2c10ad2-fdcf-4f2d-c1d6-9925c96e0b8b"
      },
      "outputs": [
        {
          "data": {
            "text/plain": [
              "DeviceArray([[1.4321449],\n",
              "             [1.3629805],\n",
              "             [0.       ]], dtype=float32)"
            ]
          },
          "execution_count": 362,
          "metadata": {},
          "output_type": "execute_result"
        }
      ],
      "source": [
        "theta = model.generate_theta()\n",
        "theta"
      ]
    },
    {
      "cell_type": "code",
      "execution_count": 363,
      "metadata": {
        "colab": {
          "base_uri": "https://localhost:8080/"
        },
        "id": "nlFaueRXbCqh",
        "outputId": "03e0e0ee-4ca6-499b-b9e0-9eb140b57379"
      },
      "outputs": [
        {
          "data": {
            "text/plain": [
              "DeviceArray([[ 0.16544   ],\n",
              "             [ 0.19231704],\n",
              "             [-0.8491675 ]], dtype=float32)"
            ]
          },
          "execution_count": 363,
          "metadata": {},
          "output_type": "execute_result"
        }
      ],
      "source": [
        "theta = model.gradient_descent(theta, X, y, 100, lr = 0.0001)\n",
        "theta"
      ]
    },
    {
      "cell_type": "code",
      "execution_count": 364,
      "metadata": {
        "colab": {
          "base_uri": "https://localhost:8080/"
        },
        "id": "D0TBafhmfqZ3",
        "outputId": "74c1f611-5cf8-4fc9-a50f-dec0b02420ae"
      },
      "outputs": [
        {
          "name": "stdout",
          "output_type": "stream",
          "text": [
            "1.0\n"
          ]
        }
      ],
      "source": [
        "y_hat = model.estimate_grsl(X, theta)\n",
        "print(model.precision(y, y_hat))"
      ]
    },
    {
      "cell_type": "markdown",
      "metadata": {
        "id": "luWHNegobgNB"
      },
      "source": [
        "## Golden Ratio Learning Rate\n",
        "\n",
        "From [Lecture Slides](\"https://github.com/kajuna0amendez/Class_MachineLearning_Jax/blob/main/Notes_Extra_Material/Notes_Golden_Ratio.pdf\")\n",
        "\n",
        "$$\n",
        "\\varphi  = \\frac{1+\\sqrt{5}}{2} = 1.618033988...\n",
        "$$"
      ]
    },
    {
      "cell_type": "code",
      "execution_count": 365,
      "metadata": {
        "colab": {
          "base_uri": "https://localhost:8080/"
        },
        "id": "jLgFebo7bHDb",
        "outputId": "0808bff3-e7a5-4b14-8d76-62ae28d34134"
      },
      "outputs": [
        {
          "data": {
            "text/plain": [
              "DeviceArray([[nan],\n",
              "             [nan],\n",
              "             [nan]], dtype=float32)"
            ]
          },
          "execution_count": 365,
          "metadata": {},
          "output_type": "execute_result"
        }
      ],
      "source": [
        "g_ratio = 1.618033\n",
        "model = Linear_Model(dim)\n",
        "theta = model.generate_theta()\n",
        "theta = model.gradient_descent(theta, X, y, 100, lr = g_ratio)\n",
        "theta"
      ]
    },
    {
      "cell_type": "code",
      "execution_count": 366,
      "metadata": {
        "colab": {
          "base_uri": "https://localhost:8080/"
        },
        "id": "jM-ZX4jJfsIG",
        "outputId": "9ec61dba-c4e3-4827-9523-23a947e02475"
      },
      "outputs": [
        {
          "name": "stdout",
          "output_type": "stream",
          "text": [
            "nan\n"
          ]
        }
      ],
      "source": [
        "y_hat = model.estimate_grsl(X, theta)\n",
        "print(model.precision(y, y_hat))"
      ]
    },
    {
      "cell_type": "markdown",
      "metadata": {
        "id": "qd2h7v1Zdxpn"
      },
      "source": [
        "$$\n",
        "\\varphi  = \\frac{-1+\\sqrt{5}}{2} = 1.618033988...\n",
        "$$"
      ]
    },
    {
      "cell_type": "code",
      "execution_count": 367,
      "metadata": {
        "colab": {
          "base_uri": "https://localhost:8080/"
        },
        "id": "3deq00lBbtHq",
        "outputId": "1e0a0b18-10de-4b4d-d9a6-239f4d519878"
      },
      "outputs": [
        {
          "data": {
            "text/plain": [
              "DeviceArray([[nan],\n",
              "             [nan],\n",
              "             [nan]], dtype=float32)"
            ]
          },
          "execution_count": 367,
          "metadata": {},
          "output_type": "execute_result"
        }
      ],
      "source": [
        "g_ratio = 0.6180\n",
        "model = Linear_Model(dim)\n",
        "theta = model.generate_theta()\n",
        "theta = model.gradient_descent(theta, X, y, 100, lr = g_ratio)\n",
        "theta"
      ]
    },
    {
      "cell_type": "code",
      "execution_count": 368,
      "metadata": {
        "colab": {
          "base_uri": "https://localhost:8080/"
        },
        "id": "iMXVZJWFftMR",
        "outputId": "c58aeb26-2ed8-470e-9810-eca85d0f181b"
      },
      "outputs": [
        {
          "name": "stdout",
          "output_type": "stream",
          "text": [
            "nan\n"
          ]
        }
      ],
      "source": [
        "y_hat = model.estimate_grsl(X, theta)\n",
        "print(model.precision(y, y_hat))"
      ]
    },
    {
      "cell_type": "markdown",
      "metadata": {
        "id": "TrFCEAdee2Q4"
      },
      "source": [
        "## Bisection Learning Rate\n",
        "Successively halves the bracketing interval (binary search)"
      ]
    },
    {
      "cell_type": "code",
      "execution_count": 369,
      "metadata": {
        "id": "pygMu03wjP-T"
      },
      "outputs": [],
      "source": [
        "class Bisection_Linear_Model(Linear_Model):\n",
        "  def __init__(self, dim):\n",
        "    super().__init__(dim)\n",
        "\n",
        "  def bisection_gradient_descent(self, theta: jnp,  X: jnp, y: jnp, n_steps: int, a, b):\n",
        "    for i in range(n_steps):\n",
        "      c = a + b / 2\n",
        "      theta = self.update(theta, X, y, c)\n",
        "      b = c\n",
        "      print(f\"lr: {c}\")\n",
        "    return theta"
      ]
    },
    {
      "cell_type": "code",
      "execution_count": 370,
      "metadata": {
        "id": "q1N3PxoEd-jg"
      },
      "outputs": [],
      "source": [
        "# interval for bisection\n",
        "a, b = 0, 0.01\n",
        "\n",
        "model = Bisection_Linear_Model(dim)\n",
        "theta = model.generate_theta()"
      ]
    },
    {
      "cell_type": "code",
      "execution_count": 371,
      "metadata": {
        "colab": {
          "base_uri": "https://localhost:8080/"
        },
        "id": "9eCRP4EOg1Co",
        "outputId": "331049ec-e0b8-449c-8929-78160b4948dd"
      },
      "outputs": [
        {
          "name": "stdout",
          "output_type": "stream",
          "text": [
            "lr: 0.005\n",
            "lr: 0.0025\n",
            "lr: 0.00125\n",
            "lr: 0.000625\n",
            "lr: 0.0003125\n",
            "lr: 0.00015625\n",
            "lr: 7.8125e-05\n",
            "lr: 3.90625e-05\n",
            "lr: 1.953125e-05\n",
            "lr: 9.765625e-06\n"
          ]
        },
        {
          "data": {
            "text/plain": [
              "DeviceArray([[12455.424 ],\n",
              "             [11799.935 ],\n",
              "             [ 2425.3787]], dtype=float32)"
            ]
          },
          "execution_count": 371,
          "metadata": {},
          "output_type": "execute_result"
        }
      ],
      "source": [
        "theta = model.bisection_gradient_descent(theta, X, y, 10, a, b)\n",
        "theta"
      ]
    },
    {
      "cell_type": "code",
      "execution_count": 372,
      "metadata": {
        "colab": {
          "base_uri": "https://localhost:8080/"
        },
        "id": "eNOctdTghKLC",
        "outputId": "ee9e15e9-8604-4f91-b2fb-7aff8de36929"
      },
      "outputs": [
        {
          "name": "stdout",
          "output_type": "stream",
          "text": [
            "1.0\n"
          ]
        }
      ],
      "source": [
        "y_hat = model.estimate_grsl(X, theta)\n",
        "print(model.precision(y, y_hat))"
      ]
    },
    {
      "cell_type": "markdown",
      "metadata": {
        "id": "I1pl_9huitW8"
      },
      "source": [
        "## Regularized Version - Ridge Regression\n",
        "$L_2$ Norm\n",
        "\n",
        "$$\n",
        "\\theta = (X^TX+A)^-1(X^Ty)\n",
        "$$"
      ]
    },
    {
      "cell_type": "code",
      "execution_count": 373,
      "metadata": {
        "id": "lX99pfBliHQ9"
      },
      "outputs": [],
      "source": [
        "class Regularized_Linear_Model(Linear_Model):\n",
        "  def __init__(self, dim, alpha):\n",
        "    self.alpha = alpha\n",
        "    super().__init__(dim)\n",
        "\n",
        "  # Ridge Regression\n",
        "  def generate_canonical__regularized_estimator(self, X: jnp, y:jnp) -> jnp:\n",
        "    \n",
        "    # number of columns in matrix of X including intercept\n",
        "    dimension = X.shape[1]\n",
        "\n",
        "    # Identity matrix of dimension compatible with our X Matrix\n",
        "    A = np.identity(dimension)\n",
        "\n",
        "    # set first 1 on the diagonal to zero so as not to include a bias term for\n",
        "    # the intercept\n",
        "    A[0, 0] = 0\n",
        "\n",
        "    # We create a bias term corresponding to alpha for each column of X not\n",
        "    # including the intercept\n",
        "    X_biased = self.alpha * A\n",
        "    \n",
        "    return  jax.numpy.linalg.inv(jax.numpy.transpose(X)@X + X_biased)@jax.numpy.transpose(X)@y"
      ]
    },
    {
      "cell_type": "code",
      "execution_count": 374,
      "metadata": {
        "colab": {
          "base_uri": "https://localhost:8080/"
        },
        "id": "Yd4xadq8vNe-",
        "outputId": "78958899-a11c-43e8-cced-ea1462d68642"
      },
      "outputs": [
        {
          "data": {
            "text/plain": [
              "3"
            ]
          },
          "execution_count": 374,
          "metadata": {},
          "output_type": "execute_result"
        }
      ],
      "source": [
        "X_e.shape[1]"
      ]
    },
    {
      "cell_type": "code",
      "execution_count": 375,
      "metadata": {
        "colab": {
          "base_uri": "https://localhost:8080/"
        },
        "id": "p6FqY39MlDat",
        "outputId": "1ede561a-644b-4a9b-fb4d-cb6c5f22e7fb"
      },
      "outputs": [
        {
          "data": {
            "text/plain": [
              "DeviceArray([[ 0.17072874],\n",
              "             [ 0.20368841],\n",
              "             [-0.93162954]], dtype=float32)"
            ]
          },
          "execution_count": 375,
          "metadata": {},
          "output_type": "execute_result"
        }
      ],
      "source": [
        "alpha = 1\n",
        "model = Regularized_Linear_Model(dim, alpha)\n",
        "w = model.generate_canonical__regularized_estimator(X_e, y)\n",
        "w"
      ]
    },
    {
      "cell_type": "code",
      "execution_count": 376,
      "metadata": {
        "colab": {
          "base_uri": "https://localhost:8080/"
        },
        "id": "XrybpVNylJij",
        "outputId": "fec6c588-4ddd-401c-d38e-69f7cdab18d0"
      },
      "outputs": [
        {
          "name": "stdout",
          "output_type": "stream",
          "text": [
            "1.0\n"
          ]
        }
      ],
      "source": [
        "y_hat = model.estimate_cannonical(X_e, w)\n",
        "print(model.precision(y, y_hat))"
      ]
    },
    {
      "cell_type": "markdown",
      "metadata": {
        "id": "HutZWBEGnDG2"
      },
      "source": [
        "## GridSearch for Alpha"
      ]
    },
    {
      "cell_type": "code",
      "execution_count": 377,
      "metadata": {
        "id": "MQL-0sinlbs3"
      },
      "outputs": [],
      "source": [
        "class Recall_Regularized_Linear_Model(Regularized_Linear_Model):\n",
        "  def __init__(self, dim, alpha):\n",
        "    super().__init__(dim, alpha)\n",
        "  \n",
        "  def recall(self, y, y_hat):\n",
        "    \"\"\"\n",
        "    Recall\n",
        "    args:\n",
        "        y: Real Labels\n",
        "        y_hat: estimated labels\n",
        "    return TP/(TP+FN)\n",
        "    \"\"\"\n",
        "    TP = sum(y_hat[y>0]>0)\n",
        "    FN = sum(y_hat[y<0]>0)\n",
        "\n",
        "    recall_cpu = jax.jit(lambda x: x, device=self.cpus[0])(TP/(TP+FN))\n",
        "    return float(recall_cpu)"
      ]
    },
    {
      "cell_type": "code",
      "execution_count": 378,
      "metadata": {
        "colab": {
          "base_uri": "https://localhost:8080/"
        },
        "id": "pDY1IIVtne7h",
        "outputId": "cb5ec089-0e34-401c-c77a-96e063eac42a"
      },
      "outputs": [
        {
          "name": "stdout",
          "output_type": "stream",
          "text": [
            "Alpha: 0, \tPrecision: 1.0 \tRecall: 1.0\n",
            "Alpha: 0.5, \tPrecision: 1.0 \tRecall: 1.0\n",
            "Alpha: 1, \tPrecision: 1.0 \tRecall: 1.0\n",
            "Alpha: 1.5, \tPrecision: 1.0 \tRecall: 1.0\n",
            "Alpha: 2, \tPrecision: 1.0 \tRecall: 1.0\n",
            "Alpha: 2.5, \tPrecision: 1.0 \tRecall: 1.0\n"
          ]
        }
      ],
      "source": [
        "alphas = [0, 0.5, 1, 1.5, 2, 2.5]\n",
        "\n",
        "for alpha in alphas:\n",
        "    model = Recall_Regularized_Linear_Model(dim, alpha)\n",
        "    w = model.generate_canonical__regularized_estimator(X_e, y)\n",
        "    y_hat = model.estimate_cannonical(X_e, w)\n",
        "    print(f\"Alpha: {alpha}, \\tPrecision: {model.precision(y, y_hat)} \\tRecall: {model.recall(y, y_hat)}\")"
      ]
    },
    {
      "cell_type": "markdown",
      "metadata": {
        "id": "IENqT38srF08"
      },
      "source": [
        "# Adult Dataset"
      ]
    },
    {
      "cell_type": "markdown",
      "metadata": {
        "id": "-PDKBhXdsmtR"
      },
      "source": [
        "## Preproccesing"
      ]
    },
    {
      "cell_type": "code",
      "execution_count": 379,
      "metadata": {
        "colab": {
          "base_uri": "https://localhost:8080/",
          "height": 409
        },
        "id": "a0CoFkwupRy0",
        "outputId": "cf023fbd-478d-4956-dfc8-96056aa25bd9"
      },
      "outputs": [
        {
          "data": {
            "text/html": [
              "\n",
              "  <div id=\"df-9c2d9c0f-1306-4a76-8d02-471d9541652e\">\n",
              "    <div class=\"colab-df-container\">\n",
              "      <div>\n",
              "<style scoped>\n",
              "    .dataframe tbody tr th:only-of-type {\n",
              "        vertical-align: middle;\n",
              "    }\n",
              "\n",
              "    .dataframe tbody tr th {\n",
              "        vertical-align: top;\n",
              "    }\n",
              "\n",
              "    .dataframe thead th {\n",
              "        text-align: right;\n",
              "    }\n",
              "</style>\n",
              "<table border=\"1\" class=\"dataframe\">\n",
              "  <thead>\n",
              "    <tr style=\"text-align: right;\">\n",
              "      <th></th>\n",
              "      <th>0</th>\n",
              "      <th>1</th>\n",
              "      <th>2</th>\n",
              "      <th>3</th>\n",
              "      <th>4</th>\n",
              "      <th>5</th>\n",
              "      <th>6</th>\n",
              "      <th>7</th>\n",
              "      <th>8</th>\n",
              "      <th>9</th>\n",
              "      <th>10</th>\n",
              "      <th>11</th>\n",
              "      <th>12</th>\n",
              "      <th>13</th>\n",
              "      <th>14</th>\n",
              "    </tr>\n",
              "  </thead>\n",
              "  <tbody>\n",
              "    <tr>\n",
              "      <th>0</th>\n",
              "      <td>25</td>\n",
              "      <td>Private</td>\n",
              "      <td>226802</td>\n",
              "      <td>11th</td>\n",
              "      <td>7</td>\n",
              "      <td>Never-married</td>\n",
              "      <td>Machine-op-inspct</td>\n",
              "      <td>Own-child</td>\n",
              "      <td>Black</td>\n",
              "      <td>Male</td>\n",
              "      <td>0</td>\n",
              "      <td>0</td>\n",
              "      <td>40</td>\n",
              "      <td>United-States</td>\n",
              "      <td>&lt;=50K</td>\n",
              "    </tr>\n",
              "    <tr>\n",
              "      <th>1</th>\n",
              "      <td>38</td>\n",
              "      <td>Private</td>\n",
              "      <td>89814</td>\n",
              "      <td>HS-grad</td>\n",
              "      <td>9</td>\n",
              "      <td>Married-civ-spouse</td>\n",
              "      <td>Farming-fishing</td>\n",
              "      <td>Husband</td>\n",
              "      <td>White</td>\n",
              "      <td>Male</td>\n",
              "      <td>0</td>\n",
              "      <td>0</td>\n",
              "      <td>50</td>\n",
              "      <td>United-States</td>\n",
              "      <td>&lt;=50K</td>\n",
              "    </tr>\n",
              "    <tr>\n",
              "      <th>2</th>\n",
              "      <td>28</td>\n",
              "      <td>Local-gov</td>\n",
              "      <td>336951</td>\n",
              "      <td>Assoc-acdm</td>\n",
              "      <td>12</td>\n",
              "      <td>Married-civ-spouse</td>\n",
              "      <td>Protective-serv</td>\n",
              "      <td>Husband</td>\n",
              "      <td>White</td>\n",
              "      <td>Male</td>\n",
              "      <td>0</td>\n",
              "      <td>0</td>\n",
              "      <td>40</td>\n",
              "      <td>United-States</td>\n",
              "      <td>&gt;50K</td>\n",
              "    </tr>\n",
              "    <tr>\n",
              "      <th>3</th>\n",
              "      <td>44</td>\n",
              "      <td>Private</td>\n",
              "      <td>160323</td>\n",
              "      <td>Some-college</td>\n",
              "      <td>10</td>\n",
              "      <td>Married-civ-spouse</td>\n",
              "      <td>Machine-op-inspct</td>\n",
              "      <td>Husband</td>\n",
              "      <td>Black</td>\n",
              "      <td>Male</td>\n",
              "      <td>7688</td>\n",
              "      <td>0</td>\n",
              "      <td>40</td>\n",
              "      <td>United-States</td>\n",
              "      <td>&gt;50K</td>\n",
              "    </tr>\n",
              "    <tr>\n",
              "      <th>4</th>\n",
              "      <td>18</td>\n",
              "      <td>NaN</td>\n",
              "      <td>103497</td>\n",
              "      <td>Some-college</td>\n",
              "      <td>10</td>\n",
              "      <td>Never-married</td>\n",
              "      <td>NaN</td>\n",
              "      <td>Own-child</td>\n",
              "      <td>White</td>\n",
              "      <td>Female</td>\n",
              "      <td>0</td>\n",
              "      <td>0</td>\n",
              "      <td>30</td>\n",
              "      <td>United-States</td>\n",
              "      <td>&lt;=50K</td>\n",
              "    </tr>\n",
              "  </tbody>\n",
              "</table>\n",
              "</div>\n",
              "      <button class=\"colab-df-convert\" onclick=\"convertToInteractive('df-9c2d9c0f-1306-4a76-8d02-471d9541652e')\"\n",
              "              title=\"Convert this dataframe to an interactive table.\"\n",
              "              style=\"display:none;\">\n",
              "        \n",
              "  <svg xmlns=\"http://www.w3.org/2000/svg\" height=\"24px\"viewBox=\"0 0 24 24\"\n",
              "       width=\"24px\">\n",
              "    <path d=\"M0 0h24v24H0V0z\" fill=\"none\"/>\n",
              "    <path d=\"M18.56 5.44l.94 2.06.94-2.06 2.06-.94-2.06-.94-.94-2.06-.94 2.06-2.06.94zm-11 1L8.5 8.5l.94-2.06 2.06-.94-2.06-.94L8.5 2.5l-.94 2.06-2.06.94zm10 10l.94 2.06.94-2.06 2.06-.94-2.06-.94-.94-2.06-.94 2.06-2.06.94z\"/><path d=\"M17.41 7.96l-1.37-1.37c-.4-.4-.92-.59-1.43-.59-.52 0-1.04.2-1.43.59L10.3 9.45l-7.72 7.72c-.78.78-.78 2.05 0 2.83L4 21.41c.39.39.9.59 1.41.59.51 0 1.02-.2 1.41-.59l7.78-7.78 2.81-2.81c.8-.78.8-2.07 0-2.86zM5.41 20L4 18.59l7.72-7.72 1.47 1.35L5.41 20z\"/>\n",
              "  </svg>\n",
              "      </button>\n",
              "      \n",
              "  <style>\n",
              "    .colab-df-container {\n",
              "      display:flex;\n",
              "      flex-wrap:wrap;\n",
              "      gap: 12px;\n",
              "    }\n",
              "\n",
              "    .colab-df-convert {\n",
              "      background-color: #E8F0FE;\n",
              "      border: none;\n",
              "      border-radius: 50%;\n",
              "      cursor: pointer;\n",
              "      display: none;\n",
              "      fill: #1967D2;\n",
              "      height: 32px;\n",
              "      padding: 0 0 0 0;\n",
              "      width: 32px;\n",
              "    }\n",
              "\n",
              "    .colab-df-convert:hover {\n",
              "      background-color: #E2EBFA;\n",
              "      box-shadow: 0px 1px 2px rgba(60, 64, 67, 0.3), 0px 1px 3px 1px rgba(60, 64, 67, 0.15);\n",
              "      fill: #174EA6;\n",
              "    }\n",
              "\n",
              "    [theme=dark] .colab-df-convert {\n",
              "      background-color: #3B4455;\n",
              "      fill: #D2E3FC;\n",
              "    }\n",
              "\n",
              "    [theme=dark] .colab-df-convert:hover {\n",
              "      background-color: #434B5C;\n",
              "      box-shadow: 0px 1px 3px 1px rgba(0, 0, 0, 0.15);\n",
              "      filter: drop-shadow(0px 1px 2px rgba(0, 0, 0, 0.3));\n",
              "      fill: #FFFFFF;\n",
              "    }\n",
              "  </style>\n",
              "\n",
              "      <script>\n",
              "        const buttonEl =\n",
              "          document.querySelector('#df-9c2d9c0f-1306-4a76-8d02-471d9541652e button.colab-df-convert');\n",
              "        buttonEl.style.display =\n",
              "          google.colab.kernel.accessAllowed ? 'block' : 'none';\n",
              "\n",
              "        async function convertToInteractive(key) {\n",
              "          const element = document.querySelector('#df-9c2d9c0f-1306-4a76-8d02-471d9541652e');\n",
              "          const dataTable =\n",
              "            await google.colab.kernel.invokeFunction('convertToInteractive',\n",
              "                                                     [key], {});\n",
              "          if (!dataTable) return;\n",
              "\n",
              "          const docLinkHtml = 'Like what you see? Visit the ' +\n",
              "            '<a target=\"_blank\" href=https://colab.research.google.com/notebooks/data_table.ipynb>data table notebook</a>'\n",
              "            + ' to learn more about interactive tables.';\n",
              "          element.innerHTML = '';\n",
              "          dataTable['output_type'] = 'display_data';\n",
              "          await google.colab.output.renderOutput(dataTable, element);\n",
              "          const docLink = document.createElement('div');\n",
              "          docLink.innerHTML = docLinkHtml;\n",
              "          element.appendChild(docLink);\n",
              "        }\n",
              "      </script>\n",
              "    </div>\n",
              "  </div>\n",
              "  "
            ],
            "text/plain": [
              "   0           1       2              3   4                    5   \\\n",
              "0  25     Private  226802           11th   7        Never-married   \n",
              "1  38     Private   89814        HS-grad   9   Married-civ-spouse   \n",
              "2  28   Local-gov  336951     Assoc-acdm  12   Married-civ-spouse   \n",
              "3  44     Private  160323   Some-college  10   Married-civ-spouse   \n",
              "4  18         NaN  103497   Some-college  10        Never-married   \n",
              "\n",
              "                   6           7       8        9     10  11  12  \\\n",
              "0   Machine-op-inspct   Own-child   Black     Male     0   0  40   \n",
              "1     Farming-fishing     Husband   White     Male     0   0  50   \n",
              "2     Protective-serv     Husband   White     Male     0   0  40   \n",
              "3   Machine-op-inspct     Husband   Black     Male  7688   0  40   \n",
              "4                 NaN   Own-child   White   Female     0   0  30   \n",
              "\n",
              "               13      14  \n",
              "0   United-States   <=50K  \n",
              "1   United-States   <=50K  \n",
              "2   United-States    >50K  \n",
              "3   United-States    >50K  \n",
              "4   United-States   <=50K  "
            ]
          },
          "execution_count": 379,
          "metadata": {},
          "output_type": "execute_result"
        }
      ],
      "source": [
        "import pandas as pd\n",
        "\n",
        "url = \"https://www.openml.org/data/download/1595261/phpMawTba\"\n",
        "\n",
        "df = pd.read_csv(url, header = None, skiprows=19,na_values=' ?')\n",
        "df.head()"
      ]
    },
    {
      "cell_type": "code",
      "execution_count": 380,
      "metadata": {
        "colab": {
          "base_uri": "https://localhost:8080/",
          "height": 300
        },
        "id": "ogejieMTq_LC",
        "outputId": "cb6b3ef0-cbc7-4c94-e013-5b6f4e88e071"
      },
      "outputs": [
        {
          "data": {
            "text/html": [
              "\n",
              "  <div id=\"df-6a254aec-f632-45ba-b769-5458024c2238\">\n",
              "    <div class=\"colab-df-container\">\n",
              "      <div>\n",
              "<style scoped>\n",
              "    .dataframe tbody tr th:only-of-type {\n",
              "        vertical-align: middle;\n",
              "    }\n",
              "\n",
              "    .dataframe tbody tr th {\n",
              "        vertical-align: top;\n",
              "    }\n",
              "\n",
              "    .dataframe thead th {\n",
              "        text-align: right;\n",
              "    }\n",
              "</style>\n",
              "<table border=\"1\" class=\"dataframe\">\n",
              "  <thead>\n",
              "    <tr style=\"text-align: right;\">\n",
              "      <th></th>\n",
              "      <th>0</th>\n",
              "      <th>2</th>\n",
              "      <th>4</th>\n",
              "      <th>10</th>\n",
              "      <th>11</th>\n",
              "      <th>12</th>\n",
              "    </tr>\n",
              "  </thead>\n",
              "  <tbody>\n",
              "    <tr>\n",
              "      <th>count</th>\n",
              "      <td>48842.000000</td>\n",
              "      <td>4.884200e+04</td>\n",
              "      <td>48842.000000</td>\n",
              "      <td>48842.000000</td>\n",
              "      <td>48842.000000</td>\n",
              "      <td>48842.000000</td>\n",
              "    </tr>\n",
              "    <tr>\n",
              "      <th>mean</th>\n",
              "      <td>38.643585</td>\n",
              "      <td>1.896641e+05</td>\n",
              "      <td>10.078089</td>\n",
              "      <td>1079.067626</td>\n",
              "      <td>87.502314</td>\n",
              "      <td>40.422382</td>\n",
              "    </tr>\n",
              "    <tr>\n",
              "      <th>std</th>\n",
              "      <td>13.710510</td>\n",
              "      <td>1.056040e+05</td>\n",
              "      <td>2.570973</td>\n",
              "      <td>7452.019058</td>\n",
              "      <td>403.004552</td>\n",
              "      <td>12.391444</td>\n",
              "    </tr>\n",
              "    <tr>\n",
              "      <th>min</th>\n",
              "      <td>17.000000</td>\n",
              "      <td>1.228500e+04</td>\n",
              "      <td>1.000000</td>\n",
              "      <td>0.000000</td>\n",
              "      <td>0.000000</td>\n",
              "      <td>1.000000</td>\n",
              "    </tr>\n",
              "    <tr>\n",
              "      <th>25%</th>\n",
              "      <td>28.000000</td>\n",
              "      <td>1.175505e+05</td>\n",
              "      <td>9.000000</td>\n",
              "      <td>0.000000</td>\n",
              "      <td>0.000000</td>\n",
              "      <td>40.000000</td>\n",
              "    </tr>\n",
              "    <tr>\n",
              "      <th>50%</th>\n",
              "      <td>37.000000</td>\n",
              "      <td>1.781445e+05</td>\n",
              "      <td>10.000000</td>\n",
              "      <td>0.000000</td>\n",
              "      <td>0.000000</td>\n",
              "      <td>40.000000</td>\n",
              "    </tr>\n",
              "    <tr>\n",
              "      <th>75%</th>\n",
              "      <td>48.000000</td>\n",
              "      <td>2.376420e+05</td>\n",
              "      <td>12.000000</td>\n",
              "      <td>0.000000</td>\n",
              "      <td>0.000000</td>\n",
              "      <td>45.000000</td>\n",
              "    </tr>\n",
              "    <tr>\n",
              "      <th>max</th>\n",
              "      <td>90.000000</td>\n",
              "      <td>1.490400e+06</td>\n",
              "      <td>16.000000</td>\n",
              "      <td>99999.000000</td>\n",
              "      <td>4356.000000</td>\n",
              "      <td>99.000000</td>\n",
              "    </tr>\n",
              "  </tbody>\n",
              "</table>\n",
              "</div>\n",
              "      <button class=\"colab-df-convert\" onclick=\"convertToInteractive('df-6a254aec-f632-45ba-b769-5458024c2238')\"\n",
              "              title=\"Convert this dataframe to an interactive table.\"\n",
              "              style=\"display:none;\">\n",
              "        \n",
              "  <svg xmlns=\"http://www.w3.org/2000/svg\" height=\"24px\"viewBox=\"0 0 24 24\"\n",
              "       width=\"24px\">\n",
              "    <path d=\"M0 0h24v24H0V0z\" fill=\"none\"/>\n",
              "    <path d=\"M18.56 5.44l.94 2.06.94-2.06 2.06-.94-2.06-.94-.94-2.06-.94 2.06-2.06.94zm-11 1L8.5 8.5l.94-2.06 2.06-.94-2.06-.94L8.5 2.5l-.94 2.06-2.06.94zm10 10l.94 2.06.94-2.06 2.06-.94-2.06-.94-.94-2.06-.94 2.06-2.06.94z\"/><path d=\"M17.41 7.96l-1.37-1.37c-.4-.4-.92-.59-1.43-.59-.52 0-1.04.2-1.43.59L10.3 9.45l-7.72 7.72c-.78.78-.78 2.05 0 2.83L4 21.41c.39.39.9.59 1.41.59.51 0 1.02-.2 1.41-.59l7.78-7.78 2.81-2.81c.8-.78.8-2.07 0-2.86zM5.41 20L4 18.59l7.72-7.72 1.47 1.35L5.41 20z\"/>\n",
              "  </svg>\n",
              "      </button>\n",
              "      \n",
              "  <style>\n",
              "    .colab-df-container {\n",
              "      display:flex;\n",
              "      flex-wrap:wrap;\n",
              "      gap: 12px;\n",
              "    }\n",
              "\n",
              "    .colab-df-convert {\n",
              "      background-color: #E8F0FE;\n",
              "      border: none;\n",
              "      border-radius: 50%;\n",
              "      cursor: pointer;\n",
              "      display: none;\n",
              "      fill: #1967D2;\n",
              "      height: 32px;\n",
              "      padding: 0 0 0 0;\n",
              "      width: 32px;\n",
              "    }\n",
              "\n",
              "    .colab-df-convert:hover {\n",
              "      background-color: #E2EBFA;\n",
              "      box-shadow: 0px 1px 2px rgba(60, 64, 67, 0.3), 0px 1px 3px 1px rgba(60, 64, 67, 0.15);\n",
              "      fill: #174EA6;\n",
              "    }\n",
              "\n",
              "    [theme=dark] .colab-df-convert {\n",
              "      background-color: #3B4455;\n",
              "      fill: #D2E3FC;\n",
              "    }\n",
              "\n",
              "    [theme=dark] .colab-df-convert:hover {\n",
              "      background-color: #434B5C;\n",
              "      box-shadow: 0px 1px 3px 1px rgba(0, 0, 0, 0.15);\n",
              "      filter: drop-shadow(0px 1px 2px rgba(0, 0, 0, 0.3));\n",
              "      fill: #FFFFFF;\n",
              "    }\n",
              "  </style>\n",
              "\n",
              "      <script>\n",
              "        const buttonEl =\n",
              "          document.querySelector('#df-6a254aec-f632-45ba-b769-5458024c2238 button.colab-df-convert');\n",
              "        buttonEl.style.display =\n",
              "          google.colab.kernel.accessAllowed ? 'block' : 'none';\n",
              "\n",
              "        async function convertToInteractive(key) {\n",
              "          const element = document.querySelector('#df-6a254aec-f632-45ba-b769-5458024c2238');\n",
              "          const dataTable =\n",
              "            await google.colab.kernel.invokeFunction('convertToInteractive',\n",
              "                                                     [key], {});\n",
              "          if (!dataTable) return;\n",
              "\n",
              "          const docLinkHtml = 'Like what you see? Visit the ' +\n",
              "            '<a target=\"_blank\" href=https://colab.research.google.com/notebooks/data_table.ipynb>data table notebook</a>'\n",
              "            + ' to learn more about interactive tables.';\n",
              "          element.innerHTML = '';\n",
              "          dataTable['output_type'] = 'display_data';\n",
              "          await google.colab.output.renderOutput(dataTable, element);\n",
              "          const docLink = document.createElement('div');\n",
              "          docLink.innerHTML = docLinkHtml;\n",
              "          element.appendChild(docLink);\n",
              "        }\n",
              "      </script>\n",
              "    </div>\n",
              "  </div>\n",
              "  "
            ],
            "text/plain": [
              "                 0             2             4             10            11  \\\n",
              "count  48842.000000  4.884200e+04  48842.000000  48842.000000  48842.000000   \n",
              "mean      38.643585  1.896641e+05     10.078089   1079.067626     87.502314   \n",
              "std       13.710510  1.056040e+05      2.570973   7452.019058    403.004552   \n",
              "min       17.000000  1.228500e+04      1.000000      0.000000      0.000000   \n",
              "25%       28.000000  1.175505e+05      9.000000      0.000000      0.000000   \n",
              "50%       37.000000  1.781445e+05     10.000000      0.000000      0.000000   \n",
              "75%       48.000000  2.376420e+05     12.000000      0.000000      0.000000   \n",
              "max       90.000000  1.490400e+06     16.000000  99999.000000   4356.000000   \n",
              "\n",
              "                 12  \n",
              "count  48842.000000  \n",
              "mean      40.422382  \n",
              "std       12.391444  \n",
              "min        1.000000  \n",
              "25%       40.000000  \n",
              "50%       40.000000  \n",
              "75%       45.000000  \n",
              "max       99.000000  "
            ]
          },
          "execution_count": 380,
          "metadata": {},
          "output_type": "execute_result"
        }
      ],
      "source": [
        "df.describe()"
      ]
    },
    {
      "cell_type": "code",
      "execution_count": 381,
      "metadata": {
        "colab": {
          "base_uri": "https://localhost:8080/"
        },
        "id": "gXRbNtq1rKa_",
        "outputId": "efda485f-c980-49bc-bcc4-40b6ffa1f49f"
      },
      "outputs": [
        {
          "name": "stdout",
          "output_type": "stream",
          "text": [
            "<class 'pandas.core.frame.DataFrame'>\n",
            "RangeIndex: 48842 entries, 0 to 48841\n",
            "Data columns (total 15 columns):\n",
            " #   Column  Non-Null Count  Dtype \n",
            "---  ------  --------------  ----- \n",
            " 0   0       48842 non-null  int64 \n",
            " 1   1       46043 non-null  object\n",
            " 2   2       48842 non-null  int64 \n",
            " 3   3       48842 non-null  object\n",
            " 4   4       48842 non-null  int64 \n",
            " 5   5       48842 non-null  object\n",
            " 6   6       46033 non-null  object\n",
            " 7   7       48842 non-null  object\n",
            " 8   8       48842 non-null  object\n",
            " 9   9       48842 non-null  object\n",
            " 10  10      48842 non-null  int64 \n",
            " 11  11      48842 non-null  int64 \n",
            " 12  12      48842 non-null  int64 \n",
            " 13  13      47985 non-null  object\n",
            " 14  14      48842 non-null  object\n",
            "dtypes: int64(6), object(9)\n",
            "memory usage: 5.6+ MB\n"
          ]
        }
      ],
      "source": [
        "df.info()"
      ]
    },
    {
      "cell_type": "code",
      "execution_count": 382,
      "metadata": {
        "colab": {
          "base_uri": "https://localhost:8080/",
          "height": 409
        },
        "id": "B57itTG9s_Tw",
        "outputId": "612b32aa-f05b-4e7f-9efb-f05aea411826"
      },
      "outputs": [
        {
          "data": {
            "text/html": [
              "\n",
              "  <div id=\"df-82b898db-fd6a-461b-bca8-08d9c4de27ce\">\n",
              "    <div class=\"colab-df-container\">\n",
              "      <div>\n",
              "<style scoped>\n",
              "    .dataframe tbody tr th:only-of-type {\n",
              "        vertical-align: middle;\n",
              "    }\n",
              "\n",
              "    .dataframe tbody tr th {\n",
              "        vertical-align: top;\n",
              "    }\n",
              "\n",
              "    .dataframe thead th {\n",
              "        text-align: right;\n",
              "    }\n",
              "</style>\n",
              "<table border=\"1\" class=\"dataframe\">\n",
              "  <thead>\n",
              "    <tr style=\"text-align: right;\">\n",
              "      <th></th>\n",
              "      <th>0</th>\n",
              "      <th>1</th>\n",
              "      <th>2</th>\n",
              "      <th>3</th>\n",
              "      <th>4</th>\n",
              "      <th>5</th>\n",
              "      <th>6</th>\n",
              "      <th>7</th>\n",
              "      <th>8</th>\n",
              "      <th>9</th>\n",
              "      <th>10</th>\n",
              "      <th>11</th>\n",
              "      <th>12</th>\n",
              "      <th>13</th>\n",
              "      <th>14</th>\n",
              "    </tr>\n",
              "  </thead>\n",
              "  <tbody>\n",
              "    <tr>\n",
              "      <th>0</th>\n",
              "      <td>25</td>\n",
              "      <td>Private</td>\n",
              "      <td>226802</td>\n",
              "      <td>11th</td>\n",
              "      <td>7</td>\n",
              "      <td>Never-married</td>\n",
              "      <td>Machine-op-inspct</td>\n",
              "      <td>Own-child</td>\n",
              "      <td>Black</td>\n",
              "      <td>Male</td>\n",
              "      <td>0</td>\n",
              "      <td>0</td>\n",
              "      <td>40</td>\n",
              "      <td>United-States</td>\n",
              "      <td>0</td>\n",
              "    </tr>\n",
              "    <tr>\n",
              "      <th>1</th>\n",
              "      <td>38</td>\n",
              "      <td>Private</td>\n",
              "      <td>89814</td>\n",
              "      <td>HS-grad</td>\n",
              "      <td>9</td>\n",
              "      <td>Married-civ-spouse</td>\n",
              "      <td>Farming-fishing</td>\n",
              "      <td>Husband</td>\n",
              "      <td>White</td>\n",
              "      <td>Male</td>\n",
              "      <td>0</td>\n",
              "      <td>0</td>\n",
              "      <td>50</td>\n",
              "      <td>United-States</td>\n",
              "      <td>0</td>\n",
              "    </tr>\n",
              "    <tr>\n",
              "      <th>2</th>\n",
              "      <td>28</td>\n",
              "      <td>Local-gov</td>\n",
              "      <td>336951</td>\n",
              "      <td>Assoc-acdm</td>\n",
              "      <td>12</td>\n",
              "      <td>Married-civ-spouse</td>\n",
              "      <td>Protective-serv</td>\n",
              "      <td>Husband</td>\n",
              "      <td>White</td>\n",
              "      <td>Male</td>\n",
              "      <td>0</td>\n",
              "      <td>0</td>\n",
              "      <td>40</td>\n",
              "      <td>United-States</td>\n",
              "      <td>1</td>\n",
              "    </tr>\n",
              "    <tr>\n",
              "      <th>3</th>\n",
              "      <td>44</td>\n",
              "      <td>Private</td>\n",
              "      <td>160323</td>\n",
              "      <td>Some-college</td>\n",
              "      <td>10</td>\n",
              "      <td>Married-civ-spouse</td>\n",
              "      <td>Machine-op-inspct</td>\n",
              "      <td>Husband</td>\n",
              "      <td>Black</td>\n",
              "      <td>Male</td>\n",
              "      <td>7688</td>\n",
              "      <td>0</td>\n",
              "      <td>40</td>\n",
              "      <td>United-States</td>\n",
              "      <td>1</td>\n",
              "    </tr>\n",
              "    <tr>\n",
              "      <th>4</th>\n",
              "      <td>18</td>\n",
              "      <td>NaN</td>\n",
              "      <td>103497</td>\n",
              "      <td>Some-college</td>\n",
              "      <td>10</td>\n",
              "      <td>Never-married</td>\n",
              "      <td>NaN</td>\n",
              "      <td>Own-child</td>\n",
              "      <td>White</td>\n",
              "      <td>Female</td>\n",
              "      <td>0</td>\n",
              "      <td>0</td>\n",
              "      <td>30</td>\n",
              "      <td>United-States</td>\n",
              "      <td>0</td>\n",
              "    </tr>\n",
              "  </tbody>\n",
              "</table>\n",
              "</div>\n",
              "      <button class=\"colab-df-convert\" onclick=\"convertToInteractive('df-82b898db-fd6a-461b-bca8-08d9c4de27ce')\"\n",
              "              title=\"Convert this dataframe to an interactive table.\"\n",
              "              style=\"display:none;\">\n",
              "        \n",
              "  <svg xmlns=\"http://www.w3.org/2000/svg\" height=\"24px\"viewBox=\"0 0 24 24\"\n",
              "       width=\"24px\">\n",
              "    <path d=\"M0 0h24v24H0V0z\" fill=\"none\"/>\n",
              "    <path d=\"M18.56 5.44l.94 2.06.94-2.06 2.06-.94-2.06-.94-.94-2.06-.94 2.06-2.06.94zm-11 1L8.5 8.5l.94-2.06 2.06-.94-2.06-.94L8.5 2.5l-.94 2.06-2.06.94zm10 10l.94 2.06.94-2.06 2.06-.94-2.06-.94-.94-2.06-.94 2.06-2.06.94z\"/><path d=\"M17.41 7.96l-1.37-1.37c-.4-.4-.92-.59-1.43-.59-.52 0-1.04.2-1.43.59L10.3 9.45l-7.72 7.72c-.78.78-.78 2.05 0 2.83L4 21.41c.39.39.9.59 1.41.59.51 0 1.02-.2 1.41-.59l7.78-7.78 2.81-2.81c.8-.78.8-2.07 0-2.86zM5.41 20L4 18.59l7.72-7.72 1.47 1.35L5.41 20z\"/>\n",
              "  </svg>\n",
              "      </button>\n",
              "      \n",
              "  <style>\n",
              "    .colab-df-container {\n",
              "      display:flex;\n",
              "      flex-wrap:wrap;\n",
              "      gap: 12px;\n",
              "    }\n",
              "\n",
              "    .colab-df-convert {\n",
              "      background-color: #E8F0FE;\n",
              "      border: none;\n",
              "      border-radius: 50%;\n",
              "      cursor: pointer;\n",
              "      display: none;\n",
              "      fill: #1967D2;\n",
              "      height: 32px;\n",
              "      padding: 0 0 0 0;\n",
              "      width: 32px;\n",
              "    }\n",
              "\n",
              "    .colab-df-convert:hover {\n",
              "      background-color: #E2EBFA;\n",
              "      box-shadow: 0px 1px 2px rgba(60, 64, 67, 0.3), 0px 1px 3px 1px rgba(60, 64, 67, 0.15);\n",
              "      fill: #174EA6;\n",
              "    }\n",
              "\n",
              "    [theme=dark] .colab-df-convert {\n",
              "      background-color: #3B4455;\n",
              "      fill: #D2E3FC;\n",
              "    }\n",
              "\n",
              "    [theme=dark] .colab-df-convert:hover {\n",
              "      background-color: #434B5C;\n",
              "      box-shadow: 0px 1px 3px 1px rgba(0, 0, 0, 0.15);\n",
              "      filter: drop-shadow(0px 1px 2px rgba(0, 0, 0, 0.3));\n",
              "      fill: #FFFFFF;\n",
              "    }\n",
              "  </style>\n",
              "\n",
              "      <script>\n",
              "        const buttonEl =\n",
              "          document.querySelector('#df-82b898db-fd6a-461b-bca8-08d9c4de27ce button.colab-df-convert');\n",
              "        buttonEl.style.display =\n",
              "          google.colab.kernel.accessAllowed ? 'block' : 'none';\n",
              "\n",
              "        async function convertToInteractive(key) {\n",
              "          const element = document.querySelector('#df-82b898db-fd6a-461b-bca8-08d9c4de27ce');\n",
              "          const dataTable =\n",
              "            await google.colab.kernel.invokeFunction('convertToInteractive',\n",
              "                                                     [key], {});\n",
              "          if (!dataTable) return;\n",
              "\n",
              "          const docLinkHtml = 'Like what you see? Visit the ' +\n",
              "            '<a target=\"_blank\" href=https://colab.research.google.com/notebooks/data_table.ipynb>data table notebook</a>'\n",
              "            + ' to learn more about interactive tables.';\n",
              "          element.innerHTML = '';\n",
              "          dataTable['output_type'] = 'display_data';\n",
              "          await google.colab.output.renderOutput(dataTable, element);\n",
              "          const docLink = document.createElement('div');\n",
              "          docLink.innerHTML = docLinkHtml;\n",
              "          element.appendChild(docLink);\n",
              "        }\n",
              "      </script>\n",
              "    </div>\n",
              "  </div>\n",
              "  "
            ],
            "text/plain": [
              "   0           1       2              3   4                    5   \\\n",
              "0  25     Private  226802           11th   7        Never-married   \n",
              "1  38     Private   89814        HS-grad   9   Married-civ-spouse   \n",
              "2  28   Local-gov  336951     Assoc-acdm  12   Married-civ-spouse   \n",
              "3  44     Private  160323   Some-college  10   Married-civ-spouse   \n",
              "4  18         NaN  103497   Some-college  10        Never-married   \n",
              "\n",
              "                   6           7       8        9     10  11  12  \\\n",
              "0   Machine-op-inspct   Own-child   Black     Male     0   0  40   \n",
              "1     Farming-fishing     Husband   White     Male     0   0  50   \n",
              "2     Protective-serv     Husband   White     Male     0   0  40   \n",
              "3   Machine-op-inspct     Husband   Black     Male  7688   0  40   \n",
              "4                 NaN   Own-child   White   Female     0   0  30   \n",
              "\n",
              "               13  14  \n",
              "0   United-States   0  \n",
              "1   United-States   0  \n",
              "2   United-States   1  \n",
              "3   United-States   1  \n",
              "4   United-States   0  "
            ]
          },
          "execution_count": 382,
          "metadata": {},
          "output_type": "execute_result"
        }
      ],
      "source": [
        "from sklearn import preprocessing\n",
        "\n",
        "le = preprocessing.LabelEncoder()\n",
        "df[14] = le.fit_transform(df[14])\n",
        "df.head()"
      ]
    },
    {
      "cell_type": "code",
      "execution_count": 383,
      "metadata": {
        "colab": {
          "base_uri": "https://localhost:8080/"
        },
        "id": "I562kWDrrLum",
        "outputId": "b81cd3d3-73d7-4dcb-9b5c-e5dffd1535b1"
      },
      "outputs": [
        {
          "name": "stdout",
          "output_type": "stream",
          "text": [
            "<class 'pandas.core.frame.DataFrame'>\n",
            "Int64Index: 45222 entries, 0 to 48841\n",
            "Data columns (total 15 columns):\n",
            " #   Column  Non-Null Count  Dtype \n",
            "---  ------  --------------  ----- \n",
            " 0   0       45222 non-null  int64 \n",
            " 1   1       45222 non-null  object\n",
            " 2   2       45222 non-null  int64 \n",
            " 3   3       45222 non-null  object\n",
            " 4   4       45222 non-null  int64 \n",
            " 5   5       45222 non-null  object\n",
            " 6   6       45222 non-null  object\n",
            " 7   7       45222 non-null  object\n",
            " 8   8       45222 non-null  object\n",
            " 9   9       45222 non-null  object\n",
            " 10  10      45222 non-null  int64 \n",
            " 11  11      45222 non-null  int64 \n",
            " 12  12      45222 non-null  int64 \n",
            " 13  13      45222 non-null  object\n",
            " 14  14      45222 non-null  int64 \n",
            "dtypes: int64(7), object(8)\n",
            "memory usage: 5.5+ MB\n"
          ]
        }
      ],
      "source": [
        "df = df.dropna()\n",
        "df.info()"
      ]
    },
    {
      "cell_type": "code",
      "execution_count": 384,
      "metadata": {
        "id": "kMOEreZssZss"
      },
      "outputs": [],
      "source": [
        "df = pd.get_dummies(df)"
      ]
    },
    {
      "cell_type": "code",
      "execution_count": 385,
      "metadata": {
        "colab": {
          "base_uri": "https://localhost:8080/",
          "height": 334
        },
        "id": "xBbUXW6rstKm",
        "outputId": "b291a7fa-f901-4f99-8372-212eda487823"
      },
      "outputs": [
        {
          "data": {
            "text/html": [
              "\n",
              "  <div id=\"df-09b447cc-7341-404f-b25a-5ee4632bdee0\">\n",
              "    <div class=\"colab-df-container\">\n",
              "      <div>\n",
              "<style scoped>\n",
              "    .dataframe tbody tr th:only-of-type {\n",
              "        vertical-align: middle;\n",
              "    }\n",
              "\n",
              "    .dataframe tbody tr th {\n",
              "        vertical-align: top;\n",
              "    }\n",
              "\n",
              "    .dataframe thead th {\n",
              "        text-align: right;\n",
              "    }\n",
              "</style>\n",
              "<table border=\"1\" class=\"dataframe\">\n",
              "  <thead>\n",
              "    <tr style=\"text-align: right;\">\n",
              "      <th></th>\n",
              "      <th>0</th>\n",
              "      <th>2</th>\n",
              "      <th>4</th>\n",
              "      <th>10</th>\n",
              "      <th>11</th>\n",
              "      <th>12</th>\n",
              "      <th>14</th>\n",
              "      <th>1_ Federal-gov</th>\n",
              "      <th>1_ Local-gov</th>\n",
              "      <th>1_ Private</th>\n",
              "      <th>...</th>\n",
              "      <th>13_ Portugal</th>\n",
              "      <th>13_ Puerto-Rico</th>\n",
              "      <th>13_ Scotland</th>\n",
              "      <th>13_ South</th>\n",
              "      <th>13_ Taiwan</th>\n",
              "      <th>13_ Thailand</th>\n",
              "      <th>13_ Trinadad&amp;Tobago</th>\n",
              "      <th>13_ United-States</th>\n",
              "      <th>13_ Vietnam</th>\n",
              "      <th>13_ Yugoslavia</th>\n",
              "    </tr>\n",
              "  </thead>\n",
              "  <tbody>\n",
              "    <tr>\n",
              "      <th>0</th>\n",
              "      <td>25</td>\n",
              "      <td>226802</td>\n",
              "      <td>7</td>\n",
              "      <td>0</td>\n",
              "      <td>0</td>\n",
              "      <td>40</td>\n",
              "      <td>0</td>\n",
              "      <td>0</td>\n",
              "      <td>0</td>\n",
              "      <td>1</td>\n",
              "      <td>...</td>\n",
              "      <td>0</td>\n",
              "      <td>0</td>\n",
              "      <td>0</td>\n",
              "      <td>0</td>\n",
              "      <td>0</td>\n",
              "      <td>0</td>\n",
              "      <td>0</td>\n",
              "      <td>1</td>\n",
              "      <td>0</td>\n",
              "      <td>0</td>\n",
              "    </tr>\n",
              "    <tr>\n",
              "      <th>1</th>\n",
              "      <td>38</td>\n",
              "      <td>89814</td>\n",
              "      <td>9</td>\n",
              "      <td>0</td>\n",
              "      <td>0</td>\n",
              "      <td>50</td>\n",
              "      <td>0</td>\n",
              "      <td>0</td>\n",
              "      <td>0</td>\n",
              "      <td>1</td>\n",
              "      <td>...</td>\n",
              "      <td>0</td>\n",
              "      <td>0</td>\n",
              "      <td>0</td>\n",
              "      <td>0</td>\n",
              "      <td>0</td>\n",
              "      <td>0</td>\n",
              "      <td>0</td>\n",
              "      <td>1</td>\n",
              "      <td>0</td>\n",
              "      <td>0</td>\n",
              "    </tr>\n",
              "    <tr>\n",
              "      <th>2</th>\n",
              "      <td>28</td>\n",
              "      <td>336951</td>\n",
              "      <td>12</td>\n",
              "      <td>0</td>\n",
              "      <td>0</td>\n",
              "      <td>40</td>\n",
              "      <td>1</td>\n",
              "      <td>0</td>\n",
              "      <td>1</td>\n",
              "      <td>0</td>\n",
              "      <td>...</td>\n",
              "      <td>0</td>\n",
              "      <td>0</td>\n",
              "      <td>0</td>\n",
              "      <td>0</td>\n",
              "      <td>0</td>\n",
              "      <td>0</td>\n",
              "      <td>0</td>\n",
              "      <td>1</td>\n",
              "      <td>0</td>\n",
              "      <td>0</td>\n",
              "    </tr>\n",
              "    <tr>\n",
              "      <th>3</th>\n",
              "      <td>44</td>\n",
              "      <td>160323</td>\n",
              "      <td>10</td>\n",
              "      <td>7688</td>\n",
              "      <td>0</td>\n",
              "      <td>40</td>\n",
              "      <td>1</td>\n",
              "      <td>0</td>\n",
              "      <td>0</td>\n",
              "      <td>1</td>\n",
              "      <td>...</td>\n",
              "      <td>0</td>\n",
              "      <td>0</td>\n",
              "      <td>0</td>\n",
              "      <td>0</td>\n",
              "      <td>0</td>\n",
              "      <td>0</td>\n",
              "      <td>0</td>\n",
              "      <td>1</td>\n",
              "      <td>0</td>\n",
              "      <td>0</td>\n",
              "    </tr>\n",
              "    <tr>\n",
              "      <th>5</th>\n",
              "      <td>34</td>\n",
              "      <td>198693</td>\n",
              "      <td>6</td>\n",
              "      <td>0</td>\n",
              "      <td>0</td>\n",
              "      <td>30</td>\n",
              "      <td>0</td>\n",
              "      <td>0</td>\n",
              "      <td>0</td>\n",
              "      <td>1</td>\n",
              "      <td>...</td>\n",
              "      <td>0</td>\n",
              "      <td>0</td>\n",
              "      <td>0</td>\n",
              "      <td>0</td>\n",
              "      <td>0</td>\n",
              "      <td>0</td>\n",
              "      <td>0</td>\n",
              "      <td>1</td>\n",
              "      <td>0</td>\n",
              "      <td>0</td>\n",
              "    </tr>\n",
              "  </tbody>\n",
              "</table>\n",
              "<p>5 rows × 105 columns</p>\n",
              "</div>\n",
              "      <button class=\"colab-df-convert\" onclick=\"convertToInteractive('df-09b447cc-7341-404f-b25a-5ee4632bdee0')\"\n",
              "              title=\"Convert this dataframe to an interactive table.\"\n",
              "              style=\"display:none;\">\n",
              "        \n",
              "  <svg xmlns=\"http://www.w3.org/2000/svg\" height=\"24px\"viewBox=\"0 0 24 24\"\n",
              "       width=\"24px\">\n",
              "    <path d=\"M0 0h24v24H0V0z\" fill=\"none\"/>\n",
              "    <path d=\"M18.56 5.44l.94 2.06.94-2.06 2.06-.94-2.06-.94-.94-2.06-.94 2.06-2.06.94zm-11 1L8.5 8.5l.94-2.06 2.06-.94-2.06-.94L8.5 2.5l-.94 2.06-2.06.94zm10 10l.94 2.06.94-2.06 2.06-.94-2.06-.94-.94-2.06-.94 2.06-2.06.94z\"/><path d=\"M17.41 7.96l-1.37-1.37c-.4-.4-.92-.59-1.43-.59-.52 0-1.04.2-1.43.59L10.3 9.45l-7.72 7.72c-.78.78-.78 2.05 0 2.83L4 21.41c.39.39.9.59 1.41.59.51 0 1.02-.2 1.41-.59l7.78-7.78 2.81-2.81c.8-.78.8-2.07 0-2.86zM5.41 20L4 18.59l7.72-7.72 1.47 1.35L5.41 20z\"/>\n",
              "  </svg>\n",
              "      </button>\n",
              "      \n",
              "  <style>\n",
              "    .colab-df-container {\n",
              "      display:flex;\n",
              "      flex-wrap:wrap;\n",
              "      gap: 12px;\n",
              "    }\n",
              "\n",
              "    .colab-df-convert {\n",
              "      background-color: #E8F0FE;\n",
              "      border: none;\n",
              "      border-radius: 50%;\n",
              "      cursor: pointer;\n",
              "      display: none;\n",
              "      fill: #1967D2;\n",
              "      height: 32px;\n",
              "      padding: 0 0 0 0;\n",
              "      width: 32px;\n",
              "    }\n",
              "\n",
              "    .colab-df-convert:hover {\n",
              "      background-color: #E2EBFA;\n",
              "      box-shadow: 0px 1px 2px rgba(60, 64, 67, 0.3), 0px 1px 3px 1px rgba(60, 64, 67, 0.15);\n",
              "      fill: #174EA6;\n",
              "    }\n",
              "\n",
              "    [theme=dark] .colab-df-convert {\n",
              "      background-color: #3B4455;\n",
              "      fill: #D2E3FC;\n",
              "    }\n",
              "\n",
              "    [theme=dark] .colab-df-convert:hover {\n",
              "      background-color: #434B5C;\n",
              "      box-shadow: 0px 1px 3px 1px rgba(0, 0, 0, 0.15);\n",
              "      filter: drop-shadow(0px 1px 2px rgba(0, 0, 0, 0.3));\n",
              "      fill: #FFFFFF;\n",
              "    }\n",
              "  </style>\n",
              "\n",
              "      <script>\n",
              "        const buttonEl =\n",
              "          document.querySelector('#df-09b447cc-7341-404f-b25a-5ee4632bdee0 button.colab-df-convert');\n",
              "        buttonEl.style.display =\n",
              "          google.colab.kernel.accessAllowed ? 'block' : 'none';\n",
              "\n",
              "        async function convertToInteractive(key) {\n",
              "          const element = document.querySelector('#df-09b447cc-7341-404f-b25a-5ee4632bdee0');\n",
              "          const dataTable =\n",
              "            await google.colab.kernel.invokeFunction('convertToInteractive',\n",
              "                                                     [key], {});\n",
              "          if (!dataTable) return;\n",
              "\n",
              "          const docLinkHtml = 'Like what you see? Visit the ' +\n",
              "            '<a target=\"_blank\" href=https://colab.research.google.com/notebooks/data_table.ipynb>data table notebook</a>'\n",
              "            + ' to learn more about interactive tables.';\n",
              "          element.innerHTML = '';\n",
              "          dataTable['output_type'] = 'display_data';\n",
              "          await google.colab.output.renderOutput(dataTable, element);\n",
              "          const docLink = document.createElement('div');\n",
              "          docLink.innerHTML = docLinkHtml;\n",
              "          element.appendChild(docLink);\n",
              "        }\n",
              "      </script>\n",
              "    </div>\n",
              "  </div>\n",
              "  "
            ],
            "text/plain": [
              "    0       2   4    10  11  12  14  1_ Federal-gov  1_ Local-gov  1_ Private  \\\n",
              "0  25  226802   7     0   0  40   0               0             0           1   \n",
              "1  38   89814   9     0   0  50   0               0             0           1   \n",
              "2  28  336951  12     0   0  40   1               0             1           0   \n",
              "3  44  160323  10  7688   0  40   1               0             0           1   \n",
              "5  34  198693   6     0   0  30   0               0             0           1   \n",
              "\n",
              "   ...  13_ Portugal  13_ Puerto-Rico  13_ Scotland  13_ South  13_ Taiwan  \\\n",
              "0  ...             0                0             0          0           0   \n",
              "1  ...             0                0             0          0           0   \n",
              "2  ...             0                0             0          0           0   \n",
              "3  ...             0                0             0          0           0   \n",
              "5  ...             0                0             0          0           0   \n",
              "\n",
              "   13_ Thailand  13_ Trinadad&Tobago  13_ United-States  13_ Vietnam  \\\n",
              "0             0                    0                  1            0   \n",
              "1             0                    0                  1            0   \n",
              "2             0                    0                  1            0   \n",
              "3             0                    0                  1            0   \n",
              "5             0                    0                  1            0   \n",
              "\n",
              "   13_ Yugoslavia  \n",
              "0               0  \n",
              "1               0  \n",
              "2               0  \n",
              "3               0  \n",
              "5               0  \n",
              "\n",
              "[5 rows x 105 columns]"
            ]
          },
          "execution_count": 385,
          "metadata": {},
          "output_type": "execute_result"
        }
      ],
      "source": [
        "df.head()"
      ]
    },
    {
      "cell_type": "code",
      "execution_count": 386,
      "metadata": {
        "id": "HwcsuNF_syJC"
      },
      "outputs": [],
      "source": [
        "y = df[14].values\n",
        "X = df.drop([14], axis = 1).values"
      ]
    },
    {
      "cell_type": "code",
      "execution_count": 387,
      "metadata": {
        "colab": {
          "base_uri": "https://localhost:8080/"
        },
        "id": "HatAA3mIu0zd",
        "outputId": "eb10c938-bcb5-48c3-b2dd-3186f58409fb"
      },
      "outputs": [
        {
          "data": {
            "text/plain": [
              "((45222, 104), (45222,))"
            ]
          },
          "execution_count": 387,
          "metadata": {},
          "output_type": "execute_result"
        }
      ],
      "source": [
        "X.shape, y.shape"
      ]
    },
    {
      "cell_type": "markdown",
      "metadata": {
        "id": "9svXti4dtrLZ"
      },
      "source": [
        "## Model"
      ]
    },
    {
      "cell_type": "code",
      "execution_count": 406,
      "metadata": {
        "id": "_gOz74D1tfmi"
      },
      "outputs": [],
      "source": [
        "class Final_Model(Recall_Regularized_Linear_Model):\n",
        "  def __init__(self, dim, alpha):\n",
        "    super().__init__(dim, alpha)\n",
        "  \n",
        "  def accuracy(self, y, y_hat):\n",
        "    \"\"\"\n",
        "    Accuracy\n",
        "    args:\n",
        "        y: Real Labels\n",
        "        y_hat: estimated labels\n",
        "    return TP+TN/(TP+FP+FN+TN)\n",
        "    \"\"\"\n",
        "    TP = sum(y_hat[y>0]>0)\n",
        "    TN = sum(y_hat[y<0]<0)\n",
        "\n",
        "    FN = sum(y_hat[y<0]>0)\n",
        "    FP = sum(y_hat[y>0]<0)\n",
        "\n",
        "    accuracy_cpu = jax.jit(lambda x: x, device=self.cpus[0])((TP+TN)/(TP+FP+FN+TN))\n",
        "    return float(accuracy_cpu)"
      ]
    },
    {
      "cell_type": "code",
      "execution_count": 407,
      "metadata": {
        "colab": {
          "base_uri": "https://localhost:8080/"
        },
        "id": "0MRObEGiujoV",
        "outputId": "f670132a-3fa6-463a-b40f-9bbd5ae6f99c"
      },
      "outputs": [
        {
          "data": {
            "text/plain": [
              "DeviceArray([-1.4759371e-03,  8.7000694e-07,  1.1619646e-03,\n",
              "             -6.3102809e-05, -5.3580437e-04, -1.7711970e-03,\n",
              "              1.6321081e-01,  5.2960306e-02,  7.6464176e-02,\n",
              "              2.2143541e-01], dtype=float32)"
            ]
          },
          "execution_count": 407,
          "metadata": {},
          "output_type": "execute_result"
        }
      ],
      "source": [
        "alpha = 1\n",
        "model = Final_Model(X.shape, alpha)\n",
        "w = model.generate_canonical__regularized_estimator(X, y)\n",
        "w[:10]"
      ]
    },
    {
      "cell_type": "code",
      "execution_count": 408,
      "metadata": {
        "colab": {
          "base_uri": "https://localhost:8080/"
        },
        "id": "T5K203lyut5j",
        "outputId": "ec948f9c-202f-4970-f0bc-a971984894c2"
      },
      "outputs": [
        {
          "name": "stdout",
          "output_type": "stream",
          "text": [
            "Alpha: 1, \n",
            "Precision: 0.8311920166015625 \n",
            "Recall: 1.0 \n",
            "Accuracy: 0.8311920166015625\n"
          ]
        }
      ],
      "source": [
        "y_hat = model.estimate_cannonical(X, w)\n",
        "print(f\"Alpha: {alpha}, \\nPrecision: {model.precision(y, y_hat)} \\nRecall: {model.recall(y, y_hat)} \\nAccuracy: {model.accuracy(y, y_hat)}\")"
      ]
    },
    {
      "cell_type": "code",
      "execution_count": null,
      "metadata": {
        "id": "5KIl14IcyFpp"
      },
      "outputs": [],
      "source": []
    }
  ],
  "metadata": {
    "colab": {
      "provenance": []
    },
    "kernelspec": {
      "display_name": "Python 3",
      "name": "python3"
    },
    "language_info": {
      "name": "python"
    }
  },
  "nbformat": 4,
  "nbformat_minor": 0
}
