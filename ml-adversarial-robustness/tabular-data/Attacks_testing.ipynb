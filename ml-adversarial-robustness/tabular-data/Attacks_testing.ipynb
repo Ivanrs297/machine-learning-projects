{
 "cells": [
  {
   "cell_type": "markdown",
   "metadata": {},
   "source": [
    "## Load Data"
   ]
  },
  {
   "cell_type": "code",
   "execution_count": 48,
   "metadata": {},
   "outputs": [
    {
     "data": {
      "text/html": [
       "<div>\n",
       "<style scoped>\n",
       "    .dataframe tbody tr th:only-of-type {\n",
       "        vertical-align: middle;\n",
       "    }\n",
       "\n",
       "    .dataframe tbody tr th {\n",
       "        vertical-align: top;\n",
       "    }\n",
       "\n",
       "    .dataframe thead th {\n",
       "        text-align: right;\n",
       "    }\n",
       "</style>\n",
       "<table border=\"1\" class=\"dataframe\">\n",
       "  <thead>\n",
       "    <tr style=\"text-align: right;\">\n",
       "      <th></th>\n",
       "      <th>minmax_s(attribute_3)</th>\n",
       "      <th>minmax_s(attribute_7)</th>\n",
       "      <th>minmax_s(attribute_8)</th>\n",
       "      <th>minmax_s(attribute_12)</th>\n",
       "      <th>minmax_s(attribute_17)</th>\n",
       "      <th>minmax_s(attribute_22)</th>\n",
       "      <th>minmax_s(attribute_24)</th>\n",
       "      <th>minmax_s(attribute_30)</th>\n",
       "      <th>minmax_s(attribute_31)</th>\n",
       "      <th>minmax_s(attribute_33)</th>\n",
       "      <th>...</th>\n",
       "      <th>minmax_s(*(*(attribute_7,attribute_22),+(attribute_12,attribute_34)))</th>\n",
       "      <th>minmax_s(*(+(attribute_8,attribute_12),+(attribute_12,attribute_34)))</th>\n",
       "      <th>minmax_s(*(+(attribute_12,attribute_34),+(attribute_17,attribute_40)))</th>\n",
       "      <th>minmax_s(*(+(attribute_17,attribute_40),*(attribute_31,attribute_36)))</th>\n",
       "      <th>minmax_s(-(*(attribute_22,attribute_33),*(attribute_31,attribute_36)))</th>\n",
       "      <th>minmax_s(-(*(attribute_24,attribute_33),*(attribute_31,attribute_36)))</th>\n",
       "      <th>minmax_s(+(*(attribute_31,attribute_36),+(attribute_33,attribute_34)))</th>\n",
       "      <th>minmax_s(*(+(attribute_33,attribute_34),+(attribute_34,attribute_40)))</th>\n",
       "      <th>minmax_s(*(+(attribute_34,attribute_40),-(attribute_37,attribute_46)))</th>\n",
       "      <th>class</th>\n",
       "    </tr>\n",
       "  </thead>\n",
       "  <tbody>\n",
       "    <tr>\n",
       "      <th>0</th>\n",
       "      <td>0.135677</td>\n",
       "      <td>0.407468</td>\n",
       "      <td>0.340904</td>\n",
       "      <td>0.197245</td>\n",
       "      <td>0.285048</td>\n",
       "      <td>0.496064</td>\n",
       "      <td>0.544104</td>\n",
       "      <td>0.345584</td>\n",
       "      <td>0.089918</td>\n",
       "      <td>0.487661</td>\n",
       "      <td>...</td>\n",
       "      <td>0.279532</td>\n",
       "      <td>0.259994</td>\n",
       "      <td>0.327763</td>\n",
       "      <td>0.065513</td>\n",
       "      <td>0.702421</td>\n",
       "      <td>0.627092</td>\n",
       "      <td>0.518474</td>\n",
       "      <td>0.373346</td>\n",
       "      <td>0.628076</td>\n",
       "      <td>0</td>\n",
       "    </tr>\n",
       "    <tr>\n",
       "      <th>1</th>\n",
       "      <td>0.272010</td>\n",
       "      <td>0.574405</td>\n",
       "      <td>0.755458</td>\n",
       "      <td>0.925557</td>\n",
       "      <td>1.000000</td>\n",
       "      <td>0.391882</td>\n",
       "      <td>0.376498</td>\n",
       "      <td>0.150740</td>\n",
       "      <td>0.360327</td>\n",
       "      <td>0.158248</td>\n",
       "      <td>...</td>\n",
       "      <td>0.305034</td>\n",
       "      <td>0.840096</td>\n",
       "      <td>0.683781</td>\n",
       "      <td>0.193665</td>\n",
       "      <td>0.516624</td>\n",
       "      <td>0.423873</td>\n",
       "      <td>0.172586</td>\n",
       "      <td>0.046930</td>\n",
       "      <td>0.384160</td>\n",
       "      <td>0</td>\n",
       "    </tr>\n",
       "    <tr>\n",
       "      <th>2</th>\n",
       "      <td>0.356110</td>\n",
       "      <td>0.648810</td>\n",
       "      <td>0.819405</td>\n",
       "      <td>1.000000</td>\n",
       "      <td>0.664180</td>\n",
       "      <td>0.666394</td>\n",
       "      <td>0.349247</td>\n",
       "      <td>0.841696</td>\n",
       "      <td>0.875204</td>\n",
       "      <td>0.145437</td>\n",
       "      <td>...</td>\n",
       "      <td>0.630702</td>\n",
       "      <td>1.000000</td>\n",
       "      <td>0.721859</td>\n",
       "      <td>0.304377</td>\n",
       "      <td>0.471057</td>\n",
       "      <td>0.335525</td>\n",
       "      <td>0.227609</td>\n",
       "      <td>0.091656</td>\n",
       "      <td>0.562431</td>\n",
       "      <td>0</td>\n",
       "    </tr>\n",
       "    <tr>\n",
       "      <th>3</th>\n",
       "      <td>0.199737</td>\n",
       "      <td>0.288149</td>\n",
       "      <td>0.269239</td>\n",
       "      <td>0.257327</td>\n",
       "      <td>0.035644</td>\n",
       "      <td>0.354872</td>\n",
       "      <td>0.471980</td>\n",
       "      <td>0.313838</td>\n",
       "      <td>0.629755</td>\n",
       "      <td>0.592565</td>\n",
       "      <td>...</td>\n",
       "      <td>0.085619</td>\n",
       "      <td>0.152782</td>\n",
       "      <td>0.332937</td>\n",
       "      <td>0.189850</td>\n",
       "      <td>0.611194</td>\n",
       "      <td>0.575040</td>\n",
       "      <td>0.418393</td>\n",
       "      <td>0.348287</td>\n",
       "      <td>0.425214</td>\n",
       "      <td>0</td>\n",
       "    </tr>\n",
       "    <tr>\n",
       "      <th>4</th>\n",
       "      <td>0.153088</td>\n",
       "      <td>0.318182</td>\n",
       "      <td>0.531863</td>\n",
       "      <td>0.544549</td>\n",
       "      <td>0.720858</td>\n",
       "      <td>0.416420</td>\n",
       "      <td>0.528634</td>\n",
       "      <td>0.437946</td>\n",
       "      <td>0.503651</td>\n",
       "      <td>0.252441</td>\n",
       "      <td>...</td>\n",
       "      <td>0.098907</td>\n",
       "      <td>0.285133</td>\n",
       "      <td>0.292079</td>\n",
       "      <td>0.212276</td>\n",
       "      <td>0.507043</td>\n",
       "      <td>0.442250</td>\n",
       "      <td>0.176384</td>\n",
       "      <td>0.030943</td>\n",
       "      <td>0.373173</td>\n",
       "      <td>0</td>\n",
       "    </tr>\n",
       "  </tbody>\n",
       "</table>\n",
       "<p>5 rows × 102 columns</p>\n",
       "</div>"
      ],
      "text/plain": [
       "   minmax_s(attribute_3)  minmax_s(attribute_7)  minmax_s(attribute_8)  \\\n",
       "0               0.135677               0.407468               0.340904   \n",
       "1               0.272010               0.574405               0.755458   \n",
       "2               0.356110               0.648810               0.819405   \n",
       "3               0.199737               0.288149               0.269239   \n",
       "4               0.153088               0.318182               0.531863   \n",
       "\n",
       "   minmax_s(attribute_12)  minmax_s(attribute_17)  minmax_s(attribute_22)  \\\n",
       "0                0.197245                0.285048                0.496064   \n",
       "1                0.925557                1.000000                0.391882   \n",
       "2                1.000000                0.664180                0.666394   \n",
       "3                0.257327                0.035644                0.354872   \n",
       "4                0.544549                0.720858                0.416420   \n",
       "\n",
       "   minmax_s(attribute_24)  minmax_s(attribute_30)  minmax_s(attribute_31)  \\\n",
       "0                0.544104                0.345584                0.089918   \n",
       "1                0.376498                0.150740                0.360327   \n",
       "2                0.349247                0.841696                0.875204   \n",
       "3                0.471980                0.313838                0.629755   \n",
       "4                0.528634                0.437946                0.503651   \n",
       "\n",
       "   minmax_s(attribute_33)  ...  \\\n",
       "0                0.487661  ...   \n",
       "1                0.158248  ...   \n",
       "2                0.145437  ...   \n",
       "3                0.592565  ...   \n",
       "4                0.252441  ...   \n",
       "\n",
       "   minmax_s(*(*(attribute_7,attribute_22),+(attribute_12,attribute_34)))  \\\n",
       "0                                           0.279532                       \n",
       "1                                           0.305034                       \n",
       "2                                           0.630702                       \n",
       "3                                           0.085619                       \n",
       "4                                           0.098907                       \n",
       "\n",
       "   minmax_s(*(+(attribute_8,attribute_12),+(attribute_12,attribute_34)))  \\\n",
       "0                                           0.259994                       \n",
       "1                                           0.840096                       \n",
       "2                                           1.000000                       \n",
       "3                                           0.152782                       \n",
       "4                                           0.285133                       \n",
       "\n",
       "   minmax_s(*(+(attribute_12,attribute_34),+(attribute_17,attribute_40)))  \\\n",
       "0                                           0.327763                        \n",
       "1                                           0.683781                        \n",
       "2                                           0.721859                        \n",
       "3                                           0.332937                        \n",
       "4                                           0.292079                        \n",
       "\n",
       "   minmax_s(*(+(attribute_17,attribute_40),*(attribute_31,attribute_36)))  \\\n",
       "0                                           0.065513                        \n",
       "1                                           0.193665                        \n",
       "2                                           0.304377                        \n",
       "3                                           0.189850                        \n",
       "4                                           0.212276                        \n",
       "\n",
       "   minmax_s(-(*(attribute_22,attribute_33),*(attribute_31,attribute_36)))  \\\n",
       "0                                           0.702421                        \n",
       "1                                           0.516624                        \n",
       "2                                           0.471057                        \n",
       "3                                           0.611194                        \n",
       "4                                           0.507043                        \n",
       "\n",
       "   minmax_s(-(*(attribute_24,attribute_33),*(attribute_31,attribute_36)))  \\\n",
       "0                                           0.627092                        \n",
       "1                                           0.423873                        \n",
       "2                                           0.335525                        \n",
       "3                                           0.575040                        \n",
       "4                                           0.442250                        \n",
       "\n",
       "   minmax_s(+(*(attribute_31,attribute_36),+(attribute_33,attribute_34)))  \\\n",
       "0                                           0.518474                        \n",
       "1                                           0.172586                        \n",
       "2                                           0.227609                        \n",
       "3                                           0.418393                        \n",
       "4                                           0.176384                        \n",
       "\n",
       "   minmax_s(*(+(attribute_33,attribute_34),+(attribute_34,attribute_40)))  \\\n",
       "0                                           0.373346                        \n",
       "1                                           0.046930                        \n",
       "2                                           0.091656                        \n",
       "3                                           0.348287                        \n",
       "4                                           0.030943                        \n",
       "\n",
       "   minmax_s(*(+(attribute_34,attribute_40),-(attribute_37,attribute_46)))  \\\n",
       "0                                           0.628076                        \n",
       "1                                           0.384160                        \n",
       "2                                           0.562431                        \n",
       "3                                           0.425214                        \n",
       "4                                           0.373173                        \n",
       "\n",
       "   class  \n",
       "0      0  \n",
       "1      0  \n",
       "2      0  \n",
       "3      0  \n",
       "4      0  \n",
       "\n",
       "[5 rows x 102 columns]"
      ]
     },
     "execution_count": 48,
     "metadata": {},
     "output_type": "execute_result"
    }
   ],
   "source": [
    "import pandas as pd\n",
    "\n",
    "# df = pd.read_csv(\"data/5_sonar.csv\")\n",
    "df = pd.read_csv(\"data/5_sonar.csv_MACFE_s0.3_d2.csv\")\n",
    "\n",
    "df.head()"
   ]
  },
  {
   "cell_type": "code",
   "execution_count": 50,
   "metadata": {},
   "outputs": [],
   "source": [
    "from sklearn.model_selection import train_test_split\n",
    "\n",
    "X = df.drop(['class'], axis = 1).values\n",
    "y = df['class'].values\n",
    "\n",
    "X_train, X_test, y_train, y_test = train_test_split(\n",
    "    X,\n",
    "    y,\n",
    "    test_size=0.20,\n",
    "    shuffle=True,\n",
    "    random_state=42\n",
    "    )"
   ]
  },
  {
   "cell_type": "markdown",
   "metadata": {},
   "source": [
    "## Model"
   ]
  },
  {
   "cell_type": "code",
   "execution_count": 51,
   "metadata": {},
   "outputs": [
    {
     "name": "stdout",
     "output_type": "stream",
     "text": [
      "Acc: 0.9047619047619048\n"
     ]
    }
   ],
   "source": [
    "from sklearn.linear_model import LogisticRegression\n",
    "from sklearn.ensemble import RandomForestClassifier\n",
    "from sklearn.metrics import accuracy_score\n",
    "\n",
    "model = LogisticRegression(random_state = 42)\n",
    "model.fit(X_train, y_train)\n",
    "\n",
    "# Accuracy\n",
    "y_pred = model.predict(X_test)\n",
    "print(f\"Acc: {accuracy_score(y_test, y_pred)}\")"
   ]
  },
  {
   "cell_type": "markdown",
   "metadata": {},
   "source": [
    "## Black-box Adversarial Attacks"
   ]
  },
  {
   "cell_type": "code",
   "execution_count": 52,
   "metadata": {},
   "outputs": [
    {
     "name": "stdout",
     "output_type": "stream",
     "text": [
      "Zoo Robust Acc: 0.6714285714285714 +- 0.009523809523809533\n",
      "HopSkipJump Robust Acc: 0.09523809523809523 +- 0.0\n"
     ]
    }
   ],
   "source": [
    "from utils.AdversarialAttacks import ZooAttackEvaluation\n",
    "from utils.AdversarialAttacks import BoundaryAttackEvaluation\n",
    "from utils.AdversarialAttacks import HopSkipJumpEvaluation\n",
    "\n",
    "# Robust Accuracy\n",
    "rob_acc = ZooAttackEvaluation(model, X_test, y_test)\n",
    "print(f\"Zoo Robust Acc: {rob_acc.mean()} +- {rob_acc.std()}\")\n",
    "\n",
    "# rob_acc = BoundaryAttackEvaluation(model, X_test, y_test)\n",
    "# print(f\"Boundary Robust Acc: {rob_acc.mean()} +- {rob_acc.std()}\")\n",
    "\n",
    "rob_acc = HopSkipJumpEvaluation(model, X_test, y_test)\n",
    "print(f\"HopSkipJump Robust Acc: {rob_acc.mean()} +- {rob_acc.std()}\")"
   ]
  },
  {
   "cell_type": "markdown",
   "metadata": {},
   "source": [
    "## Causal Feature Selection"
   ]
  },
  {
   "cell_type": "code",
   "execution_count": 53,
   "metadata": {},
   "outputs": [],
   "source": [
    "from causalnex.structure import DAGClassifier\n",
    "\n",
    "dag = DAGClassifier(\n",
    "        alpha=0.01,\n",
    "        beta=0.5,\n",
    "        hidden_layer_units=[5],\n",
    "        fit_intercept=True,\n",
    "        standardize=True\n",
    "    )"
   ]
  },
  {
   "cell_type": "code",
   "execution_count": 54,
   "metadata": {},
   "outputs": [
    {
     "data": {
      "text/plain": [
       "(208, 101)"
      ]
     },
     "execution_count": 54,
     "metadata": {},
     "output_type": "execute_result"
    }
   ],
   "source": [
    "X.shape"
   ]
  },
  {
   "cell_type": "code",
   "execution_count": 55,
   "metadata": {},
   "outputs": [
    {
     "data": {
      "text/plain": [
       "DAGClassifier(alpha=0.01, beta=0.5, hidden_layer_units=[5], standardize=True,\n",
       "              target_dist_type='bin')"
      ]
     },
     "execution_count": 55,
     "metadata": {},
     "output_type": "execute_result"
    }
   ],
   "source": [
    "dag.fit(X, y)"
   ]
  },
  {
   "cell_type": "code",
   "execution_count": 56,
   "metadata": {},
   "outputs": [],
   "source": [
    "import numpy as np\n",
    "\n",
    "threshold = .50\n",
    "_threshold = np.quantile(dag.feature_importances_[0], (1.0 - threshold))\n",
    "selection_idx = np.where(dag.feature_importances_[0] >= _threshold)[0]\n",
    "X_selected = X[:, selection_idx]"
   ]
  },
  {
   "cell_type": "code",
   "execution_count": 57,
   "metadata": {},
   "outputs": [
    {
     "data": {
      "text/plain": [
       "(208, 51)"
      ]
     },
     "execution_count": 57,
     "metadata": {},
     "output_type": "execute_result"
    }
   ],
   "source": [
    "X_selected.shape"
   ]
  },
  {
   "cell_type": "code",
   "execution_count": 58,
   "metadata": {},
   "outputs": [],
   "source": [
    "X_train, X_test, y_train, y_test = train_test_split(\n",
    "    X_selected,\n",
    "    y,\n",
    "    test_size=0.20,\n",
    "    shuffle=True,\n",
    "    random_state=42\n",
    "    )"
   ]
  },
  {
   "cell_type": "code",
   "execution_count": 59,
   "metadata": {},
   "outputs": [
    {
     "name": "stdout",
     "output_type": "stream",
     "text": [
      "Acc: 0.9047619047619048\n"
     ]
    }
   ],
   "source": [
    "model = LogisticRegression(random_state = 42)\n",
    "model.fit(X_train, y_train)\n",
    "\n",
    "# Accuracy\n",
    "y_pred = model.predict(X_test)\n",
    "print(f\"Acc: {accuracy_score(y_test, y_pred)}\")"
   ]
  },
  {
   "cell_type": "code",
   "execution_count": 61,
   "metadata": {},
   "outputs": [
    {
     "name": "stdout",
     "output_type": "stream",
     "text": [
      "Zoo Robust Acc: 0.5095238095238095 +- 0.024281045302822813\n",
      "HopSkipJump Robust Acc: 0.09523809523809523 +- 0.0\n"
     ]
    }
   ],
   "source": [
    "# Robust Accuracy\n",
    "rob_acc = ZooAttackEvaluation(model, X_test, y_test)\n",
    "print(f\"Zoo Robust Acc: {rob_acc.mean()} +- {rob_acc.std()}\")\n",
    "\n",
    "# rob_acc = BoundaryAttackEvaluation(model, X_test, y_test)\n",
    "# print(f\"Boundary Robust Acc: {rob_acc.mean()} +- {rob_acc.std()}\")\n",
    "\n",
    "rob_acc = HopSkipJumpEvaluation(model, X_test, y_test)\n",
    "print(f\"HopSkipJump Robust Acc: {rob_acc.mean()} +- {rob_acc.std()}\")"
   ]
  },
  {
   "cell_type": "code",
   "execution_count": null,
   "metadata": {},
   "outputs": [],
   "source": [
    "Dataset Original: Zoo Robust Acc: 0.3285714285714285 +- 0.009523809523809513"
   ]
  }
 ],
 "metadata": {
  "interpreter": {
   "hash": "e17d129d6f27db8b87f58b5fa141e866dbba91479774a0f83bbb21f59b590d58"
  },
  "kernelspec": {
   "display_name": "causal3.8",
   "language": "python",
   "name": "causal3.8"
  },
  "language_info": {
   "codemirror_mode": {
    "name": "ipython",
    "version": 3
   },
   "file_extension": ".py",
   "mimetype": "text/x-python",
   "name": "python",
   "nbconvert_exporter": "python",
   "pygments_lexer": "ipython3",
   "version": "3.8.10"
  },
  "orig_nbformat": 4
 },
 "nbformat": 4,
 "nbformat_minor": 2
}
