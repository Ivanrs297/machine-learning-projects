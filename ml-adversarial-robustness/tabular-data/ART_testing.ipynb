{
 "cells": [
  {
   "cell_type": "markdown",
   "id": "b657627b",
   "metadata": {},
   "source": [
    "## Load Data"
   ]
  },
  {
   "cell_type": "code",
   "execution_count": 1,
   "id": "ed9cb48d",
   "metadata": {},
   "outputs": [],
   "source": [
    "from sklearn.datasets import load_iris, load_breast_cancer\n",
    "from sklearn.model_selection import train_test_split\n",
    "\n",
    "X, y = load_breast_cancer(return_X_y=True)\n",
    "X_train, X_test, y_train, y_test = train_test_split(\n",
    "    X,\n",
    "    y,\n",
    "    test_size=0.20,\n",
    "    shuffle=True,\n",
    "    random_state=42\n",
    "    )"
   ]
  },
  {
   "cell_type": "markdown",
   "id": "b6c80417",
   "metadata": {},
   "source": [
    "## Create a Model"
   ]
  },
  {
   "cell_type": "code",
   "execution_count": 2,
   "id": "eb4f1995",
   "metadata": {},
   "outputs": [
    {
     "name": "stdout",
     "output_type": "stream",
     "text": [
      "Acc: 0.9649122807017544\n"
     ]
    },
    {
     "name": "stderr",
     "output_type": "stream",
     "text": [
      "c:\\ProgramData\\Anaconda3\\envs\\PhD\\lib\\site-packages\\sklearn\\linear_model\\_logistic.py:814: ConvergenceWarning: lbfgs failed to converge (status=1):\n",
      "STOP: TOTAL NO. of ITERATIONS REACHED LIMIT.\n",
      "\n",
      "Increase the number of iterations (max_iter) or scale the data as shown in:\n",
      "    https://scikit-learn.org/stable/modules/preprocessing.html\n",
      "Please also refer to the documentation for alternative solver options:\n",
      "    https://scikit-learn.org/stable/modules/linear_model.html#logistic-regression\n",
      "  n_iter_i = _check_optimize_result(\n"
     ]
    }
   ],
   "source": [
    "from sklearn.linear_model import LogisticRegression\n",
    "from sklearn.ensemble import RandomForestClassifier\n",
    "from sklearn.metrics import accuracy_score\n",
    "\n",
    "model = LogisticRegression(random_state = 42)\n",
    "model.fit(X_train, y_train)\n",
    "\n",
    "# Accuracy\n",
    "y_pred = model.predict(X_test)\n",
    "print(f\"Acc: {accuracy_score(y_test, y_pred)}\")"
   ]
  },
  {
   "cell_type": "code",
   "execution_count": 3,
   "id": "d03d2330",
   "metadata": {},
   "outputs": [
    {
     "data": {
      "application/vnd.jupyter.widget-view+json": {
       "model_id": "be606a4c00e84e53854b7db8b5dd0253",
       "version_major": 2,
       "version_minor": 0
      },
      "text/plain": [
       "ZOO:   0%|          | 0/114 [00:00<?, ?it/s]"
      ]
     },
     "metadata": {},
     "output_type": "display_data"
    },
    {
     "name": "stdout",
     "output_type": "stream",
     "text": [
      "Robust Acc: 0.9649122807017544\n"
     ]
    }
   ],
   "source": [
    "from utils.AdversarialAttacks import ZooAttackEvaluation\n",
    "\n",
    "# Robust Accuracy\n",
    "r_acc, X_adv = ZooAttackEvaluation(model, X_test, y_test)\n",
    "\n",
    "print(f\"Robust Acc: {r_acc}\")\n"
   ]
  },
  {
   "cell_type": "code",
   "execution_count": 8,
   "id": "6a05da18",
   "metadata": {},
   "outputs": [
    {
     "name": "stdout",
     "output_type": "stream",
     "text": [
      "Robust Acc: 0.03508771929824561\n"
     ]
    }
   ],
   "source": [
    "from utils.AdversarialAttacks import BoundaryAttackEvaluation\n",
    "\n",
    "# Robust Accuracy\n",
    "r_acc, X_adv_1 = BoundaryAttackEvaluation(model, X_test, y_test)\n",
    "\n",
    "print(f\"Robust Acc: {r_acc}\")"
   ]
  },
  {
   "cell_type": "code",
   "execution_count": 9,
   "id": "7ec65466",
   "metadata": {},
   "outputs": [
    {
     "name": "stdout",
     "output_type": "stream",
     "text": [
      "Robust Acc: 0.03508771929824561\n"
     ]
    }
   ],
   "source": [
    "from utils.AdversarialAttacks import HopSkipJumpEvaluation\n",
    "\n",
    "# Robust Accuracy\n",
    "r_acc, X_adv_2 = HopSkipJumpEvaluation(model, X_test, y_test)\n",
    "\n",
    "print(f\"Robust Acc: {r_acc}\")"
   ]
  },
  {
   "cell_type": "code",
   "execution_count": 10,
   "id": "1a013675",
   "metadata": {},
   "outputs": [
    {
     "data": {
      "text/plain": [
       "array([[ 12.053918 ,  18.482227 ,  80.905556 ],\n",
       "       [ 26.47474  ,  19.17492  , 126.11881  ],\n",
       "       [ 16.870272 ,  20.686909 , 102.26484  ],\n",
       "       [ 10.620154 ,  17.750679 ,  81.07679  ],\n",
       "       [  9.4829645,  13.879585 ,  74.54754  ],\n",
       "       [ 27.80104  ,  35.892876 , 143.65387  ],\n",
       "       [ 27.25323  ,  26.835264 , 147.18356  ],\n",
       "       [ 19.238655 ,  16.265625 , 115.88625  ],\n",
       "       [ 12.001562 ,  14.436337 ,  85.9527   ],\n",
       "       [ 12.544832 ,  16.951607 ,  89.210724 ]], dtype=float32)"
      ]
     },
     "execution_count": 10,
     "metadata": {},
     "output_type": "execute_result"
    }
   ],
   "source": [
    "X_adv_1[0:10, 0:3]"
   ]
  },
  {
   "cell_type": "code",
   "execution_count": 11,
   "id": "73f5953d",
   "metadata": {},
   "outputs": [
    {
     "data": {
      "text/plain": [
       "array([[ 11.939247,  18.413734,  81.00543 ],\n",
       "       [ 26.805305,  24.084547, 125.09019 ],\n",
       "       [ 17.389492,  20.31309 , 102.030396],\n",
       "       [ 10.686453,  17.07129 ,  81.20926 ],\n",
       "       [  9.639054,  13.738495,  74.300385],\n",
       "       [ 28.990158,  32.164864, 141.42863 ],\n",
       "       [ 32.757183,  26.595266, 149.0513  ],\n",
       "       [ 19.600826,  15.789885, 115.29277 ],\n",
       "       [ 11.743137,  15.210288,  86.132195],\n",
       "       [ 12.659917,  16.220814,  88.71957 ]], dtype=float32)"
      ]
     },
     "execution_count": 11,
     "metadata": {},
     "output_type": "execute_result"
    }
   ],
   "source": [
    "X_adv_2[0:10, 0:3]"
   ]
  },
  {
   "cell_type": "markdown",
   "id": "756092fa",
   "metadata": {},
   "source": [
    "## Generate black box HopSkipJump attack\n"
   ]
  },
  {
   "cell_type": "code",
   "execution_count": 7,
   "id": "7e0beeed",
   "metadata": {},
   "outputs": [
    {
     "name": "stdout",
     "output_type": "stream",
     "text": [
      "Iter: 0\n",
      "Iter: 1\n"
     ]
    }
   ],
   "source": [
    "import numpy as np\n",
    "from art.attacks.evasion import HopSkipJump\n",
    "\n",
    "# Generate HopSkipJump attack against black box classifier\n",
    "attack = HopSkipJump(classifier=clf, verbose=False)\n",
    "iter_step = 10\n",
    "x_adv = None\n",
    "\n",
    "for i in range(2):\n",
    "    x_adv = attack.generate(x=X_test, x_adv_init=x_adv)\n",
    "    attack.max_iter = iter_step\n",
    "    print(f\"Iter: {i}\")"
   ]
  },
  {
   "cell_type": "code",
   "execution_count": 19,
   "id": "65888a46",
   "metadata": {},
   "outputs": [
    {
     "name": "stdout",
     "output_type": "stream",
     "text": [
      "Acc: 1.0\n",
      "Robust Acc: 0.0\n"
     ]
    }
   ],
   "source": [
    "\n",
    "from sklearn.metrics import accuracy_score\n",
    "\n",
    "y_pred = clf.predict(X_test)\n",
    "y_pred_adv = clf.predict(x_adv)\n",
    "\n",
    "y_pred = np.argmax(y_pred, axis = 1)\n",
    "y_pred_adv = np.argmax(y_pred_adv, axis = 1)\n",
    "\n",
    "print(f\"Acc: {accuracy_score(y_test, y_pred)}\")\n",
    "print(f\"Robust Acc: {accuracy_score(y_test, y_pred_adv)}\")"
   ]
  },
  {
   "cell_type": "code",
   "execution_count": 18,
   "id": "325bcba2",
   "metadata": {},
   "outputs": [
    {
     "data": {
      "text/plain": [
       "array([[0.  , 1.  , 0.  ],\n",
       "       [1.  , 0.  , 0.  ],\n",
       "       [0.  , 0.  , 1.  ],\n",
       "       [0.  , 1.  , 0.  ],\n",
       "       [0.  , 0.96, 0.04],\n",
       "       [1.  , 0.  , 0.  ],\n",
       "       [0.  , 1.  , 0.  ],\n",
       "       [0.  , 0.02, 0.98],\n",
       "       [0.  , 1.  , 0.  ],\n",
       "       [0.  , 1.  , 0.  ],\n",
       "       [0.  , 0.  , 1.  ],\n",
       "       [1.  , 0.  , 0.  ],\n",
       "       [0.96, 0.04, 0.  ],\n",
       "       [1.  , 0.  , 0.  ],\n",
       "       [1.  , 0.  , 0.  ],\n",
       "       [0.  , 1.  , 0.  ],\n",
       "       [0.  , 0.  , 1.  ],\n",
       "       [0.  , 1.  , 0.  ],\n",
       "       [0.  , 0.99, 0.01],\n",
       "       [0.  , 0.  , 1.  ],\n",
       "       [1.  , 0.  , 0.  ],\n",
       "       [0.  , 0.03, 0.97],\n",
       "       [1.  , 0.  , 0.  ],\n",
       "       [0.  , 0.  , 1.  ],\n",
       "       [0.  , 0.  , 1.  ],\n",
       "       [0.  , 0.01, 0.99],\n",
       "       [0.  , 0.02, 0.98],\n",
       "       [0.  , 0.  , 1.  ],\n",
       "       [1.  , 0.  , 0.  ],\n",
       "       [1.  , 0.  , 0.  ]])"
      ]
     },
     "execution_count": 18,
     "metadata": {},
     "output_type": "execute_result"
    }
   ],
   "source": [
    "y_pred"
   ]
  },
  {
   "cell_type": "code",
   "execution_count": 38,
   "id": "4994d742",
   "metadata": {},
   "outputs": [
    {
     "name": "stdout",
     "output_type": "stream",
     "text": [
      "[4.7751245 3.0149167 2.754017  1.138757 ]\n",
      "1\n"
     ]
    }
   ],
   "source": [
    "print(x_adv[0])\n",
    "print(np.argmax(clf.predict(x_adv)[0]))"
   ]
  },
  {
   "cell_type": "code",
   "execution_count": 39,
   "id": "e1fc5a48",
   "metadata": {},
   "outputs": [],
   "source": [
    "x_adv = attack.generate(x=np.array([target_instance]), x_adv_init=x_adv)"
   ]
  },
  {
   "cell_type": "code",
   "execution_count": 40,
   "id": "585952b5",
   "metadata": {},
   "outputs": [
    {
     "name": "stdout",
     "output_type": "stream",
     "text": [
      "[4.9 3.  1.4 0.2]\n",
      "0\n"
     ]
    }
   ],
   "source": [
    "print(target_instance)\n",
    "print(np.argmax(clf.predict(target_instance.reshape(1, -1))))"
   ]
  },
  {
   "cell_type": "markdown",
   "id": "7fa34e29",
   "metadata": {},
   "source": [
    "## Training scikit-learn RandomForestClassifier and attacking with ART Zeroth Order Optimization attack\n"
   ]
  },
  {
   "cell_type": "markdown",
   "id": "38dbb72f",
   "metadata": {},
   "source": [
    "### Random Forest"
   ]
  },
  {
   "cell_type": "code",
   "execution_count": 6,
   "id": "756c3476",
   "metadata": {},
   "outputs": [
    {
     "name": "stderr",
     "output_type": "stream",
     "text": [
      "c:\\ProgramData\\Anaconda3\\envs\\PhD\\lib\\site-packages\\sklearn\\utils\\deprecation.py:103: FutureWarning: Attribute `n_features_` was deprecated in version 1.0 and will be removed in 1.2. Use `n_features_in_` instead.\n",
      "  warnings.warn(msg, category=FutureWarning)\n"
     ]
    },
    {
     "data": {
      "application/vnd.jupyter.widget-view+json": {
       "model_id": "d59e6726948749269664e8339eadb50a",
       "version_major": 2,
       "version_minor": 0
      },
      "text/plain": [
       "ZOO:   0%|          | 0/30 [00:00<?, ?it/s]"
      ]
     },
     "metadata": {},
     "output_type": "display_data"
    }
   ],
   "source": [
    "from sklearn.ensemble import RandomForestClassifier\n",
    "from art.attacks.evasion import ZooAttack\n",
    "from art.estimators.classification import SklearnClassifier\n",
    "\n",
    "# Create and fit RandomForestClassifier\n",
    "model = RandomForestClassifier()\n",
    "model.fit(X_train, y_train)\n",
    "\n",
    "# Create ART classifier for scikit-learn RandomForestClassifier\n",
    "model = SklearnClassifier(model=model)\n",
    "\n",
    "# Create ART Zeroth Order Optimization attack\n",
    "zoo = ZooAttack(classifier=model, binary_search_steps=10, nb_parallel=1)\n",
    "\n",
    "# Generate adversarial samples with ART Zeroth Order Optimization attack\n",
    "x_train_adv = zoo.generate(X_test)"
   ]
  },
  {
   "cell_type": "code",
   "execution_count": 6,
   "id": "55253457",
   "metadata": {},
   "outputs": [
    {
     "name": "stdout",
     "output_type": "stream",
     "text": [
      "Acc: 1.0, Robust Acc: 1.0\n"
     ]
    }
   ],
   "source": [
    "from sklearn.metrics import accuracy_score\n",
    "\n",
    "y_pred = model.predict(X_test)\n",
    "y_pred_adv = model.predict(x_train_adv)\n",
    "\n",
    "print(f\"Acc: {accuracy_score(y_test, y_pred)}, Robust Acc: {accuracy_score(y_test, y_pred_adv)}\")"
   ]
  },
  {
   "cell_type": "markdown",
   "id": "a356324a",
   "metadata": {},
   "source": [
    "### Logistic Regression"
   ]
  },
  {
   "cell_type": "code",
   "execution_count": 43,
   "id": "be2cb49f",
   "metadata": {},
   "outputs": [
    {
     "name": "stderr",
     "output_type": "stream",
     "text": [
      "c:\\ProgramData\\Anaconda3\\envs\\PhD\\lib\\site-packages\\sklearn\\linear_model\\_logistic.py:814: ConvergenceWarning: lbfgs failed to converge (status=1):\n",
      "STOP: TOTAL NO. of ITERATIONS REACHED LIMIT.\n",
      "\n",
      "Increase the number of iterations (max_iter) or scale the data as shown in:\n",
      "    https://scikit-learn.org/stable/modules/preprocessing.html\n",
      "Please also refer to the documentation for alternative solver options:\n",
      "    https://scikit-learn.org/stable/modules/linear_model.html#logistic-regression\n",
      "  n_iter_i = _check_optimize_result(\n"
     ]
    },
    {
     "data": {
      "application/vnd.jupyter.widget-view+json": {
       "model_id": "979385c19aef4af785d5fb8e62ce0dac",
       "version_major": 2,
       "version_minor": 0
      },
      "text/plain": [
       "ZOO:   0%|          | 0/30 [00:00<?, ?it/s]"
      ]
     },
     "metadata": {},
     "output_type": "display_data"
    }
   ],
   "source": [
    "# Create and fit RandomForestClassifier\n",
    "model = LogisticRegression(random_state = 0)\n",
    "model.fit(X_train, y_train)\n",
    "\n",
    "# Create ART classifier for scikit-learn RandomForestClassifier\n",
    "art_classifier = SklearnClassifier(model=model)\n",
    "\n",
    "# Create ART Zeroth Order Optimization attack\n",
    "zoo = ZooAttack(classifier=art_classifier, binary_search_steps=10, nb_parallel=1)\n",
    "\n",
    "# Generate adversarial samples with ART Zeroth Order Optimization attack\n",
    "x_train_adv = zoo.generate(X_test)"
   ]
  },
  {
   "cell_type": "code",
   "execution_count": 44,
   "id": "91c664c9",
   "metadata": {},
   "outputs": [
    {
     "name": "stdout",
     "output_type": "stream",
     "text": [
      "Acc: 1.0, Robust Acc: 0.9\n"
     ]
    }
   ],
   "source": [
    "y_pred = model.predict(X_test)\n",
    "y_pred_adv = model.predict(x_train_adv)\n",
    "\n",
    "print(f\"Acc: {accuracy_score(y_test, y_pred)}, Robust Acc: {accuracy_score(y_test, y_pred_adv)}\")"
   ]
  },
  {
   "cell_type": "markdown",
   "id": "50c0ce62",
   "metadata": {},
   "source": [
    "### KNN"
   ]
  },
  {
   "cell_type": "code",
   "execution_count": 50,
   "id": "95f24344",
   "metadata": {},
   "outputs": [
    {
     "data": {
      "application/vnd.jupyter.widget-view+json": {
       "model_id": "60e5873eab674cd0812ee968e4c076e0",
       "version_major": 2,
       "version_minor": 0
      },
      "text/plain": [
       "ZOO:   0%|          | 0/30 [00:00<?, ?it/s]"
      ]
     },
     "metadata": {},
     "output_type": "display_data"
    }
   ],
   "source": [
    "from sklearn.neighbors import KNeighborsClassifier\n",
    "\n",
    "# Create and fit RandomForestClassifier\n",
    "model = KNeighborsClassifier()\n",
    "model.fit(X_train, y_train)\n",
    "\n",
    "# Create ART classifier for scikit-learn RandomForestClassifier\n",
    "art_classifier = SklearnClassifier(model=model)\n",
    "\n",
    "# Create ART Zeroth Order Optimization attack\n",
    "zoo = ZooAttack(classifier=art_classifier, binary_search_steps=20, nb_parallel=1)\n",
    "\n",
    "# zoo = ZooAttack(classifier=art_classifier, confidence=0.0, targeted=False, learning_rate=1e-1, max_iter=100,\n",
    "#                 binary_search_steps=20, initial_const=1e-3, abort_early=True, use_resize=False, \n",
    "#                 use_importance=False, nb_parallel=1, batch_size=1, variable_h=0.25)\n",
    "\n",
    "# Generate adversarial samples with ART Zeroth Order Optimization attack\n",
    "x_train_adv = zoo.generate(X_test)"
   ]
  },
  {
   "cell_type": "code",
   "execution_count": 51,
   "id": "11f39700",
   "metadata": {},
   "outputs": [
    {
     "name": "stdout",
     "output_type": "stream",
     "text": [
      "Acc: 1.0, Robust Acc: 1.0\n"
     ]
    }
   ],
   "source": [
    "y_pred = model.predict(X_test)\n",
    "y_pred_adv = model.predict(x_train_adv)\n",
    "\n",
    "print(f\"Acc: {accuracy_score(y_test, y_pred)}, Robust Acc: {accuracy_score(y_test, y_pred_adv)}\")"
   ]
  },
  {
   "cell_type": "code",
   "execution_count": 53,
   "id": "d727af86",
   "metadata": {},
   "outputs": [
    {
     "data": {
      "text/plain": [
       "(1.0, 1.0)"
      ]
     },
     "execution_count": 53,
     "metadata": {},
     "output_type": "execute_result"
    }
   ],
   "source": [
    "model.score(X_test, y_test), model.score(x_train_adv, y_test)"
   ]
  },
  {
   "cell_type": "code",
   "execution_count": null,
   "id": "9230192e",
   "metadata": {},
   "outputs": [],
   "source": [
    "x_train_adv"
   ]
  },
  {
   "cell_type": "code",
   "execution_count": null,
   "id": "07453cec",
   "metadata": {},
   "outputs": [],
   "source": [
    "X_test"
   ]
  },
  {
   "cell_type": "code",
   "execution_count": null,
   "id": "eb9d0efe",
   "metadata": {},
   "outputs": [],
   "source": []
  }
 ],
 "metadata": {
  "kernelspec": {
   "display_name": "PhD",
   "language": "python",
   "name": "phd"
  },
  "language_info": {
   "codemirror_mode": {
    "name": "ipython",
    "version": 3
   },
   "file_extension": ".py",
   "mimetype": "text/x-python",
   "name": "python",
   "nbconvert_exporter": "python",
   "pygments_lexer": "ipython3",
   "version": "3.8.12"
  }
 },
 "nbformat": 4,
 "nbformat_minor": 5
}
